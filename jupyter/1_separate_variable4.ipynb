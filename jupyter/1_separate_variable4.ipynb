{
 "cells": [
  {
   "cell_type": "markdown",
   "metadata": {},
   "source": [
    "# import"
   ]
  },
  {
   "cell_type": "code",
   "execution_count": 1,
   "metadata": {},
   "outputs": [
    {
     "name": "stdout",
     "output_type": "stream",
     "text": [
      "Requirement already satisfied: jaconv in /Users/yamabe/opt/anaconda3/lib/python3.7/site-packages (0.2.4)\r\n"
     ]
    }
   ],
   "source": [
    "import pandas as pd\n",
    "import numpy as np\n",
    "import matplotlib as mpl\n",
    "import datetime\n",
    "\n",
    "! pip install jaconv\n",
    "import jaconv\n",
    "\n",
    "# Japanese font setting\n",
    "mpl.rcParams['font.family'] = 'sans-serif'\n",
    "mpl.rcParams['font.sans-serif'] = ['Hiragino Maru Gothic Pro', 'Yu Gothic', 'Meirio', 'Takao', 'IPAexGothic', 'IPAPGothic', 'Noto Sans CJK JP']\n",
    "\n",
    "# figure size setting\n",
    "mpl.rcParams['figure.figsize'] = [12.0, 4.0]\n",
    "\n",
    "HOUR = 24"
   ]
  },
  {
   "cell_type": "markdown",
   "metadata": {},
   "source": [
    "# read file"
   ]
  },
  {
   "cell_type": "code",
   "execution_count": 2,
   "metadata": {},
   "outputs": [
    {
     "data": {
      "text/html": [
       "<div>\n",
       "<style scoped>\n",
       "    .dataframe tbody tr th:only-of-type {\n",
       "        vertical-align: middle;\n",
       "    }\n",
       "\n",
       "    .dataframe tbody tr th {\n",
       "        vertical-align: top;\n",
       "    }\n",
       "\n",
       "    .dataframe thead th {\n",
       "        text-align: right;\n",
       "    }\n",
       "</style>\n",
       "<table border=\"1\" class=\"dataframe\">\n",
       "  <thead>\n",
       "    <tr style=\"text-align: right;\">\n",
       "      <th></th>\n",
       "      <th>pID</th>\n",
       "      <th>Age</th>\n",
       "      <th>Sex</th>\n",
       "      <th>Blood_ABO</th>\n",
       "      <th>Blood_Rh</th>\n",
       "      <th>department</th>\n",
       "      <th>height</th>\n",
       "      <th>weight</th>\n",
       "      <th>Ent_datetime</th>\n",
       "      <th>Exit_datetime</th>\n",
       "      <th>...</th>\n",
       "      <th>bed_ER1</th>\n",
       "      <th>bed_ER2</th>\n",
       "      <th>bed_Emergency5</th>\n",
       "      <th>bed_Emergency8</th>\n",
       "      <th>bed_Emergency10</th>\n",
       "      <th>bed_Temporary1</th>\n",
       "      <th>bed_Temporary2</th>\n",
       "      <th>bed_Emergency_Temporary1</th>\n",
       "      <th>bed_Emergency_Temporary2</th>\n",
       "      <th>bed_Emergency_Temporary3</th>\n",
       "    </tr>\n",
       "  </thead>\n",
       "  <tbody>\n",
       "    <tr>\n",
       "      <th>0</th>\n",
       "      <td>NaN</td>\n",
       "      <td>75.0</td>\n",
       "      <td>M</td>\n",
       "      <td>O</td>\n",
       "      <td>Rh_+</td>\n",
       "      <td>肝胆膵外科</td>\n",
       "      <td>162.9</td>\n",
       "      <td>65.0</td>\n",
       "      <td>2010-11-03 11:52</td>\n",
       "      <td>2010-11-30 11:42</td>\n",
       "      <td>...</td>\n",
       "      <td>NaN</td>\n",
       "      <td>NaN</td>\n",
       "      <td>NaN</td>\n",
       "      <td>NaN</td>\n",
       "      <td>NaN</td>\n",
       "      <td>NaN</td>\n",
       "      <td>NaN</td>\n",
       "      <td>NaN</td>\n",
       "      <td>NaN</td>\n",
       "      <td>NaN</td>\n",
       "    </tr>\n",
       "    <tr>\n",
       "      <th>1</th>\n",
       "      <td>NaN</td>\n",
       "      <td>72.0</td>\n",
       "      <td>M</td>\n",
       "      <td>A</td>\n",
       "      <td>Rh_+</td>\n",
       "      <td>救急科</td>\n",
       "      <td>NaN</td>\n",
       "      <td>67.3</td>\n",
       "      <td>2010-11-03 13:14</td>\n",
       "      <td>2010-11-21 14:39</td>\n",
       "      <td>...</td>\n",
       "      <td>NaN</td>\n",
       "      <td>NaN</td>\n",
       "      <td>NaN</td>\n",
       "      <td>NaN</td>\n",
       "      <td>NaN</td>\n",
       "      <td>NaN</td>\n",
       "      <td>NaN</td>\n",
       "      <td>NaN</td>\n",
       "      <td>NaN</td>\n",
       "      <td>NaN</td>\n",
       "    </tr>\n",
       "    <tr>\n",
       "      <th>2</th>\n",
       "      <td>NaN</td>\n",
       "      <td>40.0</td>\n",
       "      <td>M</td>\n",
       "      <td>O</td>\n",
       "      <td>Rh_+</td>\n",
       "      <td>肝胆膵外科</td>\n",
       "      <td>174.0</td>\n",
       "      <td>70.6</td>\n",
       "      <td>2010-11-03 14:19</td>\n",
       "      <td>2010-12-28 16:44</td>\n",
       "      <td>...</td>\n",
       "      <td>NaN</td>\n",
       "      <td>NaN</td>\n",
       "      <td>NaN</td>\n",
       "      <td>NaN</td>\n",
       "      <td>NaN</td>\n",
       "      <td>NaN</td>\n",
       "      <td>NaN</td>\n",
       "      <td>NaN</td>\n",
       "      <td>NaN</td>\n",
       "      <td>NaN</td>\n",
       "    </tr>\n",
       "    <tr>\n",
       "      <th>3</th>\n",
       "      <td>NaN</td>\n",
       "      <td>62.0</td>\n",
       "      <td>M</td>\n",
       "      <td>O</td>\n",
       "      <td>Rh_+</td>\n",
       "      <td>消化器内科</td>\n",
       "      <td>NaN</td>\n",
       "      <td>65.8</td>\n",
       "      <td>2010-11-03 13:22</td>\n",
       "      <td>2010-11-12 17:22</td>\n",
       "      <td>...</td>\n",
       "      <td>NaN</td>\n",
       "      <td>NaN</td>\n",
       "      <td>NaN</td>\n",
       "      <td>NaN</td>\n",
       "      <td>NaN</td>\n",
       "      <td>NaN</td>\n",
       "      <td>NaN</td>\n",
       "      <td>NaN</td>\n",
       "      <td>NaN</td>\n",
       "      <td>NaN</td>\n",
       "    </tr>\n",
       "    <tr>\n",
       "      <th>4</th>\n",
       "      <td>NaN</td>\n",
       "      <td>67.0</td>\n",
       "      <td>F</td>\n",
       "      <td>A</td>\n",
       "      <td>Rh_+</td>\n",
       "      <td>救急科</td>\n",
       "      <td>NaN</td>\n",
       "      <td>64.3</td>\n",
       "      <td>2010-11-03 13:37</td>\n",
       "      <td>2010-11-08 17:16</td>\n",
       "      <td>...</td>\n",
       "      <td>NaN</td>\n",
       "      <td>NaN</td>\n",
       "      <td>NaN</td>\n",
       "      <td>NaN</td>\n",
       "      <td>NaN</td>\n",
       "      <td>NaN</td>\n",
       "      <td>NaN</td>\n",
       "      <td>NaN</td>\n",
       "      <td>NaN</td>\n",
       "      <td>NaN</td>\n",
       "    </tr>\n",
       "    <tr>\n",
       "      <th>...</th>\n",
       "      <td>...</td>\n",
       "      <td>...</td>\n",
       "      <td>...</td>\n",
       "      <td>...</td>\n",
       "      <td>...</td>\n",
       "      <td>...</td>\n",
       "      <td>...</td>\n",
       "      <td>...</td>\n",
       "      <td>...</td>\n",
       "      <td>...</td>\n",
       "      <td>...</td>\n",
       "      <td>...</td>\n",
       "      <td>...</td>\n",
       "      <td>...</td>\n",
       "      <td>...</td>\n",
       "      <td>...</td>\n",
       "      <td>...</td>\n",
       "      <td>...</td>\n",
       "      <td>...</td>\n",
       "      <td>...</td>\n",
       "      <td>...</td>\n",
       "    </tr>\n",
       "    <tr>\n",
       "      <th>16166</th>\n",
       "      <td>NaN</td>\n",
       "      <td>69.0</td>\n",
       "      <td>F</td>\n",
       "      <td>NaN</td>\n",
       "      <td>NaN</td>\n",
       "      <td>救急科</td>\n",
       "      <td>NaN</td>\n",
       "      <td>NaN</td>\n",
       "      <td>2019-03-30 21:30</td>\n",
       "      <td>2019-03-31 13:50</td>\n",
       "      <td>...</td>\n",
       "      <td>NaN</td>\n",
       "      <td>28.0</td>\n",
       "      <td>NaN</td>\n",
       "      <td>NaN</td>\n",
       "      <td>NaN</td>\n",
       "      <td>NaN</td>\n",
       "      <td>NaN</td>\n",
       "      <td>NaN</td>\n",
       "      <td>NaN</td>\n",
       "      <td>NaN</td>\n",
       "    </tr>\n",
       "    <tr>\n",
       "      <th>16167</th>\n",
       "      <td>NaN</td>\n",
       "      <td>45.0</td>\n",
       "      <td>M</td>\n",
       "      <td>A</td>\n",
       "      <td>Rh_+</td>\n",
       "      <td>循環器内科</td>\n",
       "      <td>175.0</td>\n",
       "      <td>96.6</td>\n",
       "      <td>2019-03-30 22:02</td>\n",
       "      <td>2019-04-01 10:15</td>\n",
       "      <td>...</td>\n",
       "      <td>44.0</td>\n",
       "      <td>NaN</td>\n",
       "      <td>NaN</td>\n",
       "      <td>NaN</td>\n",
       "      <td>NaN</td>\n",
       "      <td>NaN</td>\n",
       "      <td>NaN</td>\n",
       "      <td>NaN</td>\n",
       "      <td>NaN</td>\n",
       "      <td>NaN</td>\n",
       "    </tr>\n",
       "    <tr>\n",
       "      <th>16168</th>\n",
       "      <td>NaN</td>\n",
       "      <td>76.0</td>\n",
       "      <td>M</td>\n",
       "      <td>B</td>\n",
       "      <td>Rh_+</td>\n",
       "      <td>食道・胃腸外科</td>\n",
       "      <td>NaN</td>\n",
       "      <td>NaN</td>\n",
       "      <td>2019-03-31 07:04</td>\n",
       "      <td>2019-04-01 01:38</td>\n",
       "      <td>...</td>\n",
       "      <td>NaN</td>\n",
       "      <td>60.0</td>\n",
       "      <td>NaN</td>\n",
       "      <td>NaN</td>\n",
       "      <td>NaN</td>\n",
       "      <td>NaN</td>\n",
       "      <td>NaN</td>\n",
       "      <td>NaN</td>\n",
       "      <td>NaN</td>\n",
       "      <td>NaN</td>\n",
       "    </tr>\n",
       "    <tr>\n",
       "      <th>16169</th>\n",
       "      <td>NaN</td>\n",
       "      <td>72.0</td>\n",
       "      <td>M</td>\n",
       "      <td>A</td>\n",
       "      <td>Rh_+</td>\n",
       "      <td>消化器内科</td>\n",
       "      <td>171.5</td>\n",
       "      <td>87.5</td>\n",
       "      <td>2019-03-31 10:10</td>\n",
       "      <td>2019-04-01 13:52</td>\n",
       "      <td>...</td>\n",
       "      <td>NaN</td>\n",
       "      <td>NaN</td>\n",
       "      <td>NaN</td>\n",
       "      <td>NaN</td>\n",
       "      <td>NaN</td>\n",
       "      <td>NaN</td>\n",
       "      <td>NaN</td>\n",
       "      <td>NaN</td>\n",
       "      <td>NaN</td>\n",
       "      <td>NaN</td>\n",
       "    </tr>\n",
       "    <tr>\n",
       "      <th>16170</th>\n",
       "      <td>NaN</td>\n",
       "      <td>56.0</td>\n",
       "      <td>M</td>\n",
       "      <td>O</td>\n",
       "      <td>Rh_+</td>\n",
       "      <td>循環器内科</td>\n",
       "      <td>171.0</td>\n",
       "      <td>83.0</td>\n",
       "      <td>2019-03-31 15:40</td>\n",
       "      <td>2019-04-03 10:00</td>\n",
       "      <td>...</td>\n",
       "      <td>NaN</td>\n",
       "      <td>63.0</td>\n",
       "      <td>NaN</td>\n",
       "      <td>NaN</td>\n",
       "      <td>NaN</td>\n",
       "      <td>NaN</td>\n",
       "      <td>NaN</td>\n",
       "      <td>NaN</td>\n",
       "      <td>NaN</td>\n",
       "      <td>NaN</td>\n",
       "    </tr>\n",
       "  </tbody>\n",
       "</table>\n",
       "<p>16171 rows × 236 columns</p>\n",
       "</div>"
      ],
      "text/plain": [
       "       pID   Age Sex Blood_ABO Blood_Rh department  height  weight  \\\n",
       "0      NaN  75.0   M         O     Rh_+      肝胆膵外科   162.9    65.0   \n",
       "1      NaN  72.0   M         A     Rh_+        救急科     NaN    67.3   \n",
       "2      NaN  40.0   M         O     Rh_+      肝胆膵外科   174.0    70.6   \n",
       "3      NaN  62.0   M         O     Rh_+      消化器内科     NaN    65.8   \n",
       "4      NaN  67.0   F         A     Rh_+        救急科     NaN    64.3   \n",
       "...    ...   ...  ..       ...      ...        ...     ...     ...   \n",
       "16166  NaN  69.0   F       NaN      NaN        救急科     NaN     NaN   \n",
       "16167  NaN  45.0   M         A     Rh_+      循環器内科   175.0    96.6   \n",
       "16168  NaN  76.0   M         B     Rh_+    食道・胃腸外科     NaN     NaN   \n",
       "16169  NaN  72.0   M         A     Rh_+      消化器内科   171.5    87.5   \n",
       "16170  NaN  56.0   M         O     Rh_+      循環器内科   171.0    83.0   \n",
       "\n",
       "           Ent_datetime     Exit_datetime  ...  bed_ER1 bed_ER2  \\\n",
       "0      2010-11-03 11:52  2010-11-30 11:42  ...      NaN     NaN   \n",
       "1      2010-11-03 13:14  2010-11-21 14:39  ...      NaN     NaN   \n",
       "2      2010-11-03 14:19  2010-12-28 16:44  ...      NaN     NaN   \n",
       "3      2010-11-03 13:22  2010-11-12 17:22  ...      NaN     NaN   \n",
       "4      2010-11-03 13:37  2010-11-08 17:16  ...      NaN     NaN   \n",
       "...                 ...               ...  ...      ...     ...   \n",
       "16166  2019-03-30 21:30  2019-03-31 13:50  ...      NaN    28.0   \n",
       "16167  2019-03-30 22:02  2019-04-01 10:15  ...     44.0     NaN   \n",
       "16168  2019-03-31 07:04  2019-04-01 01:38  ...      NaN    60.0   \n",
       "16169  2019-03-31 10:10  2019-04-01 13:52  ...      NaN     NaN   \n",
       "16170  2019-03-31 15:40  2019-04-03 10:00  ...      NaN    63.0   \n",
       "\n",
       "      bed_Emergency5 bed_Emergency8 bed_Emergency10 bed_Temporary1  \\\n",
       "0                NaN            NaN             NaN            NaN   \n",
       "1                NaN            NaN             NaN            NaN   \n",
       "2                NaN            NaN             NaN            NaN   \n",
       "3                NaN            NaN             NaN            NaN   \n",
       "4                NaN            NaN             NaN            NaN   \n",
       "...              ...            ...             ...            ...   \n",
       "16166            NaN            NaN             NaN            NaN   \n",
       "16167            NaN            NaN             NaN            NaN   \n",
       "16168            NaN            NaN             NaN            NaN   \n",
       "16169            NaN            NaN             NaN            NaN   \n",
       "16170            NaN            NaN             NaN            NaN   \n",
       "\n",
       "      bed_Temporary2 bed_Emergency_Temporary1 bed_Emergency_Temporary2  \\\n",
       "0                NaN                      NaN                      NaN   \n",
       "1                NaN                      NaN                      NaN   \n",
       "2                NaN                      NaN                      NaN   \n",
       "3                NaN                      NaN                      NaN   \n",
       "4                NaN                      NaN                      NaN   \n",
       "...              ...                      ...                      ...   \n",
       "16166            NaN                      NaN                      NaN   \n",
       "16167            NaN                      NaN                      NaN   \n",
       "16168            NaN                      NaN                      NaN   \n",
       "16169            NaN                      NaN                      NaN   \n",
       "16170            NaN                      NaN                      NaN   \n",
       "\n",
       "      bed_Emergency_Temporary3  \n",
       "0                          NaN  \n",
       "1                          NaN  \n",
       "2                          NaN  \n",
       "3                          NaN  \n",
       "4                          NaN  \n",
       "...                        ...  \n",
       "16166                      NaN  \n",
       "16167                      NaN  \n",
       "16168                      NaN  \n",
       "16169                      NaN  \n",
       "16170                      NaN  \n",
       "\n",
       "[16171 rows x 236 columns]"
      ]
     },
     "execution_count": 2,
     "metadata": {},
     "output_type": "execute_result"
    }
   ],
   "source": [
    "df = pd.read_table('../../../data/patient/ICU_patient_info_summarized4_-24h_{}h.txt'.format(HOUR), low_memory=False)\n",
    "df"
   ]
  },
  {
   "cell_type": "code",
   "execution_count": 3,
   "metadata": {},
   "outputs": [
    {
     "data": {
      "text/plain": [
       "14"
      ]
     },
     "execution_count": 3,
     "metadata": {},
     "output_type": "execute_result"
    }
   ],
   "source": [
    "df.days_of_stay.isnull().sum()"
   ]
  },
  {
   "cell_type": "markdown",
   "metadata": {},
   "source": [
    "# merge pID"
   ]
  },
  {
   "cell_type": "code",
   "execution_count": 4,
   "metadata": {},
   "outputs": [
    {
     "data": {
      "text/html": [
       "<div>\n",
       "<style scoped>\n",
       "    .dataframe tbody tr th:only-of-type {\n",
       "        vertical-align: middle;\n",
       "    }\n",
       "\n",
       "    .dataframe tbody tr th {\n",
       "        vertical-align: top;\n",
       "    }\n",
       "\n",
       "    .dataframe thead th {\n",
       "        text-align: right;\n",
       "    }\n",
       "</style>\n",
       "<table border=\"1\" class=\"dataframe\">\n",
       "  <thead>\n",
       "    <tr style=\"text-align: right;\">\n",
       "      <th></th>\n",
       "      <th>pID</th>\n",
       "      <th>Age</th>\n",
       "      <th>Sex</th>\n",
       "      <th>Blood_ABO</th>\n",
       "      <th>Blood_Rh</th>\n",
       "      <th>department</th>\n",
       "      <th>height</th>\n",
       "      <th>weight</th>\n",
       "      <th>Ent_date</th>\n",
       "      <th>Ent_time</th>\n",
       "      <th>...</th>\n",
       "      <th>ART_2d</th>\n",
       "      <th>PAPm</th>\n",
       "      <th>SVV_Vigileo</th>\n",
       "      <th>rSO2-1_INVOS</th>\n",
       "      <th>rSO2-2_INVOS</th>\n",
       "      <th>rSO2-3_INVOS</th>\n",
       "      <th>rSO2-4_INVOS</th>\n",
       "      <th>TBlood</th>\n",
       "      <th>SVV</th>\n",
       "      <th>ScvO2</th>\n",
       "    </tr>\n",
       "  </thead>\n",
       "  <tbody>\n",
       "    <tr>\n",
       "      <th>0</th>\n",
       "      <td>9AYeq8l9</td>\n",
       "      <td>75.0</td>\n",
       "      <td>M</td>\n",
       "      <td>O</td>\n",
       "      <td>Rh_+</td>\n",
       "      <td>肝胆膵外科</td>\n",
       "      <td>162.9</td>\n",
       "      <td>65.0</td>\n",
       "      <td>2010-11-03</td>\n",
       "      <td>1152.0</td>\n",
       "      <td>...</td>\n",
       "      <td>NaN</td>\n",
       "      <td>NaN</td>\n",
       "      <td>NaN</td>\n",
       "      <td>NaN</td>\n",
       "      <td>NaN</td>\n",
       "      <td>NaN</td>\n",
       "      <td>NaN</td>\n",
       "      <td>NaN</td>\n",
       "      <td>NaN</td>\n",
       "      <td>NaN</td>\n",
       "    </tr>\n",
       "    <tr>\n",
       "      <th>1</th>\n",
       "      <td>2vKAer03</td>\n",
       "      <td>72.0</td>\n",
       "      <td>M</td>\n",
       "      <td>A</td>\n",
       "      <td>Rh_+</td>\n",
       "      <td>救急科</td>\n",
       "      <td>NaN</td>\n",
       "      <td>67.3</td>\n",
       "      <td>2010-11-03</td>\n",
       "      <td>1314.0</td>\n",
       "      <td>...</td>\n",
       "      <td>NaN</td>\n",
       "      <td>NaN</td>\n",
       "      <td>NaN</td>\n",
       "      <td>NaN</td>\n",
       "      <td>NaN</td>\n",
       "      <td>NaN</td>\n",
       "      <td>NaN</td>\n",
       "      <td>NaN</td>\n",
       "      <td>NaN</td>\n",
       "      <td>NaN</td>\n",
       "    </tr>\n",
       "    <tr>\n",
       "      <th>2</th>\n",
       "      <td>9RrpqrB9</td>\n",
       "      <td>40.0</td>\n",
       "      <td>M</td>\n",
       "      <td>O</td>\n",
       "      <td>Rh_+</td>\n",
       "      <td>肝胆膵外科</td>\n",
       "      <td>174.0</td>\n",
       "      <td>70.6</td>\n",
       "      <td>2010-11-03</td>\n",
       "      <td>1419.0</td>\n",
       "      <td>...</td>\n",
       "      <td>NaN</td>\n",
       "      <td>NaN</td>\n",
       "      <td>NaN</td>\n",
       "      <td>NaN</td>\n",
       "      <td>NaN</td>\n",
       "      <td>NaN</td>\n",
       "      <td>NaN</td>\n",
       "      <td>NaN</td>\n",
       "      <td>NaN</td>\n",
       "      <td>NaN</td>\n",
       "    </tr>\n",
       "    <tr>\n",
       "      <th>3</th>\n",
       "      <td>ng4x4Kj9</td>\n",
       "      <td>62.0</td>\n",
       "      <td>M</td>\n",
       "      <td>O</td>\n",
       "      <td>Rh_+</td>\n",
       "      <td>消化器内科</td>\n",
       "      <td>NaN</td>\n",
       "      <td>65.8</td>\n",
       "      <td>2010-11-03</td>\n",
       "      <td>1322.0</td>\n",
       "      <td>...</td>\n",
       "      <td>NaN</td>\n",
       "      <td>NaN</td>\n",
       "      <td>NaN</td>\n",
       "      <td>NaN</td>\n",
       "      <td>NaN</td>\n",
       "      <td>NaN</td>\n",
       "      <td>NaN</td>\n",
       "      <td>NaN</td>\n",
       "      <td>NaN</td>\n",
       "      <td>NaN</td>\n",
       "    </tr>\n",
       "    <tr>\n",
       "      <th>4</th>\n",
       "      <td>nq185Pxn</td>\n",
       "      <td>67.0</td>\n",
       "      <td>F</td>\n",
       "      <td>A</td>\n",
       "      <td>Rh_+</td>\n",
       "      <td>救急科</td>\n",
       "      <td>NaN</td>\n",
       "      <td>64.3</td>\n",
       "      <td>2010-11-03</td>\n",
       "      <td>1337.0</td>\n",
       "      <td>...</td>\n",
       "      <td>NaN</td>\n",
       "      <td>NaN</td>\n",
       "      <td>NaN</td>\n",
       "      <td>NaN</td>\n",
       "      <td>NaN</td>\n",
       "      <td>NaN</td>\n",
       "      <td>NaN</td>\n",
       "      <td>NaN</td>\n",
       "      <td>NaN</td>\n",
       "      <td>NaN</td>\n",
       "    </tr>\n",
       "    <tr>\n",
       "      <th>...</th>\n",
       "      <td>...</td>\n",
       "      <td>...</td>\n",
       "      <td>...</td>\n",
       "      <td>...</td>\n",
       "      <td>...</td>\n",
       "      <td>...</td>\n",
       "      <td>...</td>\n",
       "      <td>...</td>\n",
       "      <td>...</td>\n",
       "      <td>...</td>\n",
       "      <td>...</td>\n",
       "      <td>...</td>\n",
       "      <td>...</td>\n",
       "      <td>...</td>\n",
       "      <td>...</td>\n",
       "      <td>...</td>\n",
       "      <td>...</td>\n",
       "      <td>...</td>\n",
       "      <td>...</td>\n",
       "      <td>...</td>\n",
       "      <td>...</td>\n",
       "    </tr>\n",
       "    <tr>\n",
       "      <th>16166</th>\n",
       "      <td>37vywE02</td>\n",
       "      <td>69.0</td>\n",
       "      <td>F</td>\n",
       "      <td>NaN</td>\n",
       "      <td>NaN</td>\n",
       "      <td>救急科</td>\n",
       "      <td>NaN</td>\n",
       "      <td>NaN</td>\n",
       "      <td>2019-03-30</td>\n",
       "      <td>2130.0</td>\n",
       "      <td>...</td>\n",
       "      <td>NaN</td>\n",
       "      <td>NaN</td>\n",
       "      <td>NaN</td>\n",
       "      <td>NaN</td>\n",
       "      <td>NaN</td>\n",
       "      <td>NaN</td>\n",
       "      <td>NaN</td>\n",
       "      <td>NaN</td>\n",
       "      <td>NaN</td>\n",
       "      <td>NaN</td>\n",
       "    </tr>\n",
       "    <tr>\n",
       "      <th>16167</th>\n",
       "      <td>9EDo4eEn</td>\n",
       "      <td>45.0</td>\n",
       "      <td>M</td>\n",
       "      <td>A</td>\n",
       "      <td>Rh_+</td>\n",
       "      <td>循環器内科</td>\n",
       "      <td>175.0</td>\n",
       "      <td>96.6</td>\n",
       "      <td>2019-03-30</td>\n",
       "      <td>2202.0</td>\n",
       "      <td>...</td>\n",
       "      <td>NaN</td>\n",
       "      <td>NaN</td>\n",
       "      <td>NaN</td>\n",
       "      <td>NaN</td>\n",
       "      <td>NaN</td>\n",
       "      <td>NaN</td>\n",
       "      <td>NaN</td>\n",
       "      <td>NaN</td>\n",
       "      <td>NaN</td>\n",
       "      <td>NaN</td>\n",
       "    </tr>\n",
       "    <tr>\n",
       "      <th>16168</th>\n",
       "      <td>2bpBvNan</td>\n",
       "      <td>76.0</td>\n",
       "      <td>M</td>\n",
       "      <td>B</td>\n",
       "      <td>Rh_+</td>\n",
       "      <td>食道・胃腸外科</td>\n",
       "      <td>NaN</td>\n",
       "      <td>NaN</td>\n",
       "      <td>2019-03-31</td>\n",
       "      <td>704.0</td>\n",
       "      <td>...</td>\n",
       "      <td>NaN</td>\n",
       "      <td>NaN</td>\n",
       "      <td>NaN</td>\n",
       "      <td>NaN</td>\n",
       "      <td>NaN</td>\n",
       "      <td>NaN</td>\n",
       "      <td>NaN</td>\n",
       "      <td>NaN</td>\n",
       "      <td>NaN</td>\n",
       "      <td>NaN</td>\n",
       "    </tr>\n",
       "    <tr>\n",
       "      <th>16169</th>\n",
       "      <td>2D7Klge9</td>\n",
       "      <td>72.0</td>\n",
       "      <td>M</td>\n",
       "      <td>A</td>\n",
       "      <td>Rh_+</td>\n",
       "      <td>消化器内科</td>\n",
       "      <td>171.5</td>\n",
       "      <td>87.5</td>\n",
       "      <td>2019-03-31</td>\n",
       "      <td>1010.0</td>\n",
       "      <td>...</td>\n",
       "      <td>NaN</td>\n",
       "      <td>NaN</td>\n",
       "      <td>NaN</td>\n",
       "      <td>NaN</td>\n",
       "      <td>NaN</td>\n",
       "      <td>NaN</td>\n",
       "      <td>NaN</td>\n",
       "      <td>NaN</td>\n",
       "      <td>NaN</td>\n",
       "      <td>NaN</td>\n",
       "    </tr>\n",
       "    <tr>\n",
       "      <th>16170</th>\n",
       "      <td>E3LJqRd9</td>\n",
       "      <td>56.0</td>\n",
       "      <td>M</td>\n",
       "      <td>O</td>\n",
       "      <td>Rh_+</td>\n",
       "      <td>循環器内科</td>\n",
       "      <td>171.0</td>\n",
       "      <td>83.0</td>\n",
       "      <td>2019-03-31</td>\n",
       "      <td>1540.0</td>\n",
       "      <td>...</td>\n",
       "      <td>NaN</td>\n",
       "      <td>NaN</td>\n",
       "      <td>NaN</td>\n",
       "      <td>NaN</td>\n",
       "      <td>NaN</td>\n",
       "      <td>NaN</td>\n",
       "      <td>NaN</td>\n",
       "      <td>NaN</td>\n",
       "      <td>NaN</td>\n",
       "      <td>NaN</td>\n",
       "    </tr>\n",
       "  </tbody>\n",
       "</table>\n",
       "<p>16171 rows × 194 columns</p>\n",
       "</div>"
      ],
      "text/plain": [
       "            pID   Age Sex Blood_ABO Blood_Rh department  height  weight  \\\n",
       "0      9AYeq8l9  75.0   M         O     Rh_+      肝胆膵外科   162.9    65.0   \n",
       "1      2vKAer03  72.0   M         A     Rh_+        救急科     NaN    67.3   \n",
       "2      9RrpqrB9  40.0   M         O     Rh_+      肝胆膵外科   174.0    70.6   \n",
       "3      ng4x4Kj9  62.0   M         O     Rh_+      消化器内科     NaN    65.8   \n",
       "4      nq185Pxn  67.0   F         A     Rh_+        救急科     NaN    64.3   \n",
       "...         ...   ...  ..       ...      ...        ...     ...     ...   \n",
       "16166  37vywE02  69.0   F       NaN      NaN        救急科     NaN     NaN   \n",
       "16167  9EDo4eEn  45.0   M         A     Rh_+      循環器内科   175.0    96.6   \n",
       "16168  2bpBvNan  76.0   M         B     Rh_+    食道・胃腸外科     NaN     NaN   \n",
       "16169  2D7Klge9  72.0   M         A     Rh_+      消化器内科   171.5    87.5   \n",
       "16170  E3LJqRd9  56.0   M         O     Rh_+      循環器内科   171.0    83.0   \n",
       "\n",
       "         Ent_date  Ent_time  ... ART_2d  PAPm  SVV_Vigileo rSO2-1_INVOS  \\\n",
       "0      2010-11-03    1152.0  ...    NaN   NaN          NaN          NaN   \n",
       "1      2010-11-03    1314.0  ...    NaN   NaN          NaN          NaN   \n",
       "2      2010-11-03    1419.0  ...    NaN   NaN          NaN          NaN   \n",
       "3      2010-11-03    1322.0  ...    NaN   NaN          NaN          NaN   \n",
       "4      2010-11-03    1337.0  ...    NaN   NaN          NaN          NaN   \n",
       "...           ...       ...  ...    ...   ...          ...          ...   \n",
       "16166  2019-03-30    2130.0  ...    NaN   NaN          NaN          NaN   \n",
       "16167  2019-03-30    2202.0  ...    NaN   NaN          NaN          NaN   \n",
       "16168  2019-03-31     704.0  ...    NaN   NaN          NaN          NaN   \n",
       "16169  2019-03-31    1010.0  ...    NaN   NaN          NaN          NaN   \n",
       "16170  2019-03-31    1540.0  ...    NaN   NaN          NaN          NaN   \n",
       "\n",
       "      rSO2-2_INVOS rSO2-3_INVOS rSO2-4_INVOS TBlood SVV ScvO2  \n",
       "0              NaN          NaN          NaN    NaN NaN   NaN  \n",
       "1              NaN          NaN          NaN    NaN NaN   NaN  \n",
       "2              NaN          NaN          NaN    NaN NaN   NaN  \n",
       "3              NaN          NaN          NaN    NaN NaN   NaN  \n",
       "4              NaN          NaN          NaN    NaN NaN   NaN  \n",
       "...            ...          ...          ...    ...  ..   ...  \n",
       "16166          NaN          NaN          NaN    NaN NaN   NaN  \n",
       "16167          NaN          NaN          NaN    NaN NaN   NaN  \n",
       "16168          NaN          NaN          NaN    NaN NaN   NaN  \n",
       "16169          NaN          NaN          NaN    NaN NaN   NaN  \n",
       "16170          NaN          NaN          NaN    NaN NaN   NaN  \n",
       "\n",
       "[16171 rows x 194 columns]"
      ]
     },
     "execution_count": 4,
     "metadata": {},
     "output_type": "execute_result"
    }
   ],
   "source": [
    "df_key = pd.read_table('../../../data/patient/ICU_patient_info_summarized_anonym.txt', low_memory=False)\n",
    "df_key"
   ]
  },
  {
   "cell_type": "code",
   "execution_count": 5,
   "metadata": {},
   "outputs": [
    {
     "data": {
      "text/html": [
       "<div>\n",
       "<style scoped>\n",
       "    .dataframe tbody tr th:only-of-type {\n",
       "        vertical-align: middle;\n",
       "    }\n",
       "\n",
       "    .dataframe tbody tr th {\n",
       "        vertical-align: top;\n",
       "    }\n",
       "\n",
       "    .dataframe thead th {\n",
       "        text-align: right;\n",
       "    }\n",
       "</style>\n",
       "<table border=\"1\" class=\"dataframe\">\n",
       "  <thead>\n",
       "    <tr style=\"text-align: right;\">\n",
       "      <th></th>\n",
       "      <th>pID</th>\n",
       "      <th>Age</th>\n",
       "      <th>Sex</th>\n",
       "      <th>Blood_ABO</th>\n",
       "      <th>Blood_Rh</th>\n",
       "      <th>department</th>\n",
       "      <th>height</th>\n",
       "      <th>weight</th>\n",
       "      <th>Ent_date</th>\n",
       "      <th>Ent_time</th>\n",
       "      <th>...</th>\n",
       "      <th>SVV_Vigileo</th>\n",
       "      <th>rSO2-1_INVOS</th>\n",
       "      <th>rSO2-2_INVOS</th>\n",
       "      <th>rSO2-3_INVOS</th>\n",
       "      <th>rSO2-4_INVOS</th>\n",
       "      <th>TBlood</th>\n",
       "      <th>SVV</th>\n",
       "      <th>ScvO2</th>\n",
       "      <th>Ent_datetime</th>\n",
       "      <th>Exit_datetime</th>\n",
       "    </tr>\n",
       "  </thead>\n",
       "  <tbody>\n",
       "    <tr>\n",
       "      <th>0</th>\n",
       "      <td>9AYeq8l9</td>\n",
       "      <td>75.0</td>\n",
       "      <td>M</td>\n",
       "      <td>O</td>\n",
       "      <td>Rh_+</td>\n",
       "      <td>肝胆膵外科</td>\n",
       "      <td>162.9</td>\n",
       "      <td>65.0</td>\n",
       "      <td>2010-11-03</td>\n",
       "      <td>1152.0</td>\n",
       "      <td>...</td>\n",
       "      <td>NaN</td>\n",
       "      <td>NaN</td>\n",
       "      <td>NaN</td>\n",
       "      <td>NaN</td>\n",
       "      <td>NaN</td>\n",
       "      <td>NaN</td>\n",
       "      <td>NaN</td>\n",
       "      <td>NaN</td>\n",
       "      <td>2010-11-03 11:52</td>\n",
       "      <td>2010-11-30 11:42</td>\n",
       "    </tr>\n",
       "    <tr>\n",
       "      <th>1</th>\n",
       "      <td>2vKAer03</td>\n",
       "      <td>72.0</td>\n",
       "      <td>M</td>\n",
       "      <td>A</td>\n",
       "      <td>Rh_+</td>\n",
       "      <td>救急科</td>\n",
       "      <td>NaN</td>\n",
       "      <td>67.3</td>\n",
       "      <td>2010-11-03</td>\n",
       "      <td>1314.0</td>\n",
       "      <td>...</td>\n",
       "      <td>NaN</td>\n",
       "      <td>NaN</td>\n",
       "      <td>NaN</td>\n",
       "      <td>NaN</td>\n",
       "      <td>NaN</td>\n",
       "      <td>NaN</td>\n",
       "      <td>NaN</td>\n",
       "      <td>NaN</td>\n",
       "      <td>2010-11-03 13:14</td>\n",
       "      <td>2010-11-21 14:39</td>\n",
       "    </tr>\n",
       "    <tr>\n",
       "      <th>2</th>\n",
       "      <td>9RrpqrB9</td>\n",
       "      <td>40.0</td>\n",
       "      <td>M</td>\n",
       "      <td>O</td>\n",
       "      <td>Rh_+</td>\n",
       "      <td>肝胆膵外科</td>\n",
       "      <td>174.0</td>\n",
       "      <td>70.6</td>\n",
       "      <td>2010-11-03</td>\n",
       "      <td>1419.0</td>\n",
       "      <td>...</td>\n",
       "      <td>NaN</td>\n",
       "      <td>NaN</td>\n",
       "      <td>NaN</td>\n",
       "      <td>NaN</td>\n",
       "      <td>NaN</td>\n",
       "      <td>NaN</td>\n",
       "      <td>NaN</td>\n",
       "      <td>NaN</td>\n",
       "      <td>2010-11-03 14:19</td>\n",
       "      <td>2010-12-28 16:44</td>\n",
       "    </tr>\n",
       "    <tr>\n",
       "      <th>3</th>\n",
       "      <td>ng4x4Kj9</td>\n",
       "      <td>62.0</td>\n",
       "      <td>M</td>\n",
       "      <td>O</td>\n",
       "      <td>Rh_+</td>\n",
       "      <td>消化器内科</td>\n",
       "      <td>NaN</td>\n",
       "      <td>65.8</td>\n",
       "      <td>2010-11-03</td>\n",
       "      <td>1322.0</td>\n",
       "      <td>...</td>\n",
       "      <td>NaN</td>\n",
       "      <td>NaN</td>\n",
       "      <td>NaN</td>\n",
       "      <td>NaN</td>\n",
       "      <td>NaN</td>\n",
       "      <td>NaN</td>\n",
       "      <td>NaN</td>\n",
       "      <td>NaN</td>\n",
       "      <td>2010-11-03 13:22</td>\n",
       "      <td>2010-11-12 17:22</td>\n",
       "    </tr>\n",
       "    <tr>\n",
       "      <th>4</th>\n",
       "      <td>nq185Pxn</td>\n",
       "      <td>67.0</td>\n",
       "      <td>F</td>\n",
       "      <td>A</td>\n",
       "      <td>Rh_+</td>\n",
       "      <td>救急科</td>\n",
       "      <td>NaN</td>\n",
       "      <td>64.3</td>\n",
       "      <td>2010-11-03</td>\n",
       "      <td>1337.0</td>\n",
       "      <td>...</td>\n",
       "      <td>NaN</td>\n",
       "      <td>NaN</td>\n",
       "      <td>NaN</td>\n",
       "      <td>NaN</td>\n",
       "      <td>NaN</td>\n",
       "      <td>NaN</td>\n",
       "      <td>NaN</td>\n",
       "      <td>NaN</td>\n",
       "      <td>2010-11-03 13:37</td>\n",
       "      <td>2010-11-08 17:16</td>\n",
       "    </tr>\n",
       "    <tr>\n",
       "      <th>...</th>\n",
       "      <td>...</td>\n",
       "      <td>...</td>\n",
       "      <td>...</td>\n",
       "      <td>...</td>\n",
       "      <td>...</td>\n",
       "      <td>...</td>\n",
       "      <td>...</td>\n",
       "      <td>...</td>\n",
       "      <td>...</td>\n",
       "      <td>...</td>\n",
       "      <td>...</td>\n",
       "      <td>...</td>\n",
       "      <td>...</td>\n",
       "      <td>...</td>\n",
       "      <td>...</td>\n",
       "      <td>...</td>\n",
       "      <td>...</td>\n",
       "      <td>...</td>\n",
       "      <td>...</td>\n",
       "      <td>...</td>\n",
       "      <td>...</td>\n",
       "    </tr>\n",
       "    <tr>\n",
       "      <th>16166</th>\n",
       "      <td>37vywE02</td>\n",
       "      <td>69.0</td>\n",
       "      <td>F</td>\n",
       "      <td>NaN</td>\n",
       "      <td>NaN</td>\n",
       "      <td>救急科</td>\n",
       "      <td>NaN</td>\n",
       "      <td>NaN</td>\n",
       "      <td>2019-03-30</td>\n",
       "      <td>2130.0</td>\n",
       "      <td>...</td>\n",
       "      <td>NaN</td>\n",
       "      <td>NaN</td>\n",
       "      <td>NaN</td>\n",
       "      <td>NaN</td>\n",
       "      <td>NaN</td>\n",
       "      <td>NaN</td>\n",
       "      <td>NaN</td>\n",
       "      <td>NaN</td>\n",
       "      <td>2019-03-30 21:30</td>\n",
       "      <td>2019-03-31 13:50</td>\n",
       "    </tr>\n",
       "    <tr>\n",
       "      <th>16167</th>\n",
       "      <td>9EDo4eEn</td>\n",
       "      <td>45.0</td>\n",
       "      <td>M</td>\n",
       "      <td>A</td>\n",
       "      <td>Rh_+</td>\n",
       "      <td>循環器内科</td>\n",
       "      <td>175.0</td>\n",
       "      <td>96.6</td>\n",
       "      <td>2019-03-30</td>\n",
       "      <td>2202.0</td>\n",
       "      <td>...</td>\n",
       "      <td>NaN</td>\n",
       "      <td>NaN</td>\n",
       "      <td>NaN</td>\n",
       "      <td>NaN</td>\n",
       "      <td>NaN</td>\n",
       "      <td>NaN</td>\n",
       "      <td>NaN</td>\n",
       "      <td>NaN</td>\n",
       "      <td>2019-03-30 22:02</td>\n",
       "      <td>2019-04-01 10:15</td>\n",
       "    </tr>\n",
       "    <tr>\n",
       "      <th>16168</th>\n",
       "      <td>2bpBvNan</td>\n",
       "      <td>76.0</td>\n",
       "      <td>M</td>\n",
       "      <td>B</td>\n",
       "      <td>Rh_+</td>\n",
       "      <td>食道・胃腸外科</td>\n",
       "      <td>NaN</td>\n",
       "      <td>NaN</td>\n",
       "      <td>2019-03-31</td>\n",
       "      <td>704.0</td>\n",
       "      <td>...</td>\n",
       "      <td>NaN</td>\n",
       "      <td>NaN</td>\n",
       "      <td>NaN</td>\n",
       "      <td>NaN</td>\n",
       "      <td>NaN</td>\n",
       "      <td>NaN</td>\n",
       "      <td>NaN</td>\n",
       "      <td>NaN</td>\n",
       "      <td>2019-03-31 07:04</td>\n",
       "      <td>2019-04-01 01:38</td>\n",
       "    </tr>\n",
       "    <tr>\n",
       "      <th>16169</th>\n",
       "      <td>2D7Klge9</td>\n",
       "      <td>72.0</td>\n",
       "      <td>M</td>\n",
       "      <td>A</td>\n",
       "      <td>Rh_+</td>\n",
       "      <td>消化器内科</td>\n",
       "      <td>171.5</td>\n",
       "      <td>87.5</td>\n",
       "      <td>2019-03-31</td>\n",
       "      <td>1010.0</td>\n",
       "      <td>...</td>\n",
       "      <td>NaN</td>\n",
       "      <td>NaN</td>\n",
       "      <td>NaN</td>\n",
       "      <td>NaN</td>\n",
       "      <td>NaN</td>\n",
       "      <td>NaN</td>\n",
       "      <td>NaN</td>\n",
       "      <td>NaN</td>\n",
       "      <td>2019-03-31 10:10</td>\n",
       "      <td>2019-04-01 13:52</td>\n",
       "    </tr>\n",
       "    <tr>\n",
       "      <th>16170</th>\n",
       "      <td>E3LJqRd9</td>\n",
       "      <td>56.0</td>\n",
       "      <td>M</td>\n",
       "      <td>O</td>\n",
       "      <td>Rh_+</td>\n",
       "      <td>循環器内科</td>\n",
       "      <td>171.0</td>\n",
       "      <td>83.0</td>\n",
       "      <td>2019-03-31</td>\n",
       "      <td>1540.0</td>\n",
       "      <td>...</td>\n",
       "      <td>NaN</td>\n",
       "      <td>NaN</td>\n",
       "      <td>NaN</td>\n",
       "      <td>NaN</td>\n",
       "      <td>NaN</td>\n",
       "      <td>NaN</td>\n",
       "      <td>NaN</td>\n",
       "      <td>NaN</td>\n",
       "      <td>2019-03-31 15:40</td>\n",
       "      <td>2019-04-03 10:00</td>\n",
       "    </tr>\n",
       "  </tbody>\n",
       "</table>\n",
       "<p>16171 rows × 196 columns</p>\n",
       "</div>"
      ],
      "text/plain": [
       "            pID   Age Sex Blood_ABO Blood_Rh department  height  weight  \\\n",
       "0      9AYeq8l9  75.0   M         O     Rh_+      肝胆膵外科   162.9    65.0   \n",
       "1      2vKAer03  72.0   M         A     Rh_+        救急科     NaN    67.3   \n",
       "2      9RrpqrB9  40.0   M         O     Rh_+      肝胆膵外科   174.0    70.6   \n",
       "3      ng4x4Kj9  62.0   M         O     Rh_+      消化器内科     NaN    65.8   \n",
       "4      nq185Pxn  67.0   F         A     Rh_+        救急科     NaN    64.3   \n",
       "...         ...   ...  ..       ...      ...        ...     ...     ...   \n",
       "16166  37vywE02  69.0   F       NaN      NaN        救急科     NaN     NaN   \n",
       "16167  9EDo4eEn  45.0   M         A     Rh_+      循環器内科   175.0    96.6   \n",
       "16168  2bpBvNan  76.0   M         B     Rh_+    食道・胃腸外科     NaN     NaN   \n",
       "16169  2D7Klge9  72.0   M         A     Rh_+      消化器内科   171.5    87.5   \n",
       "16170  E3LJqRd9  56.0   M         O     Rh_+      循環器内科   171.0    83.0   \n",
       "\n",
       "         Ent_date  Ent_time  ... SVV_Vigileo  rSO2-1_INVOS  rSO2-2_INVOS  \\\n",
       "0      2010-11-03    1152.0  ...         NaN           NaN           NaN   \n",
       "1      2010-11-03    1314.0  ...         NaN           NaN           NaN   \n",
       "2      2010-11-03    1419.0  ...         NaN           NaN           NaN   \n",
       "3      2010-11-03    1322.0  ...         NaN           NaN           NaN   \n",
       "4      2010-11-03    1337.0  ...         NaN           NaN           NaN   \n",
       "...           ...       ...  ...         ...           ...           ...   \n",
       "16166  2019-03-30    2130.0  ...         NaN           NaN           NaN   \n",
       "16167  2019-03-30    2202.0  ...         NaN           NaN           NaN   \n",
       "16168  2019-03-31     704.0  ...         NaN           NaN           NaN   \n",
       "16169  2019-03-31    1010.0  ...         NaN           NaN           NaN   \n",
       "16170  2019-03-31    1540.0  ...         NaN           NaN           NaN   \n",
       "\n",
       "      rSO2-3_INVOS rSO2-4_INVOS TBlood SVV ScvO2      Ent_datetime  \\\n",
       "0              NaN          NaN    NaN NaN   NaN  2010-11-03 11:52   \n",
       "1              NaN          NaN    NaN NaN   NaN  2010-11-03 13:14   \n",
       "2              NaN          NaN    NaN NaN   NaN  2010-11-03 14:19   \n",
       "3              NaN          NaN    NaN NaN   NaN  2010-11-03 13:22   \n",
       "4              NaN          NaN    NaN NaN   NaN  2010-11-03 13:37   \n",
       "...            ...          ...    ...  ..   ...               ...   \n",
       "16166          NaN          NaN    NaN NaN   NaN  2019-03-30 21:30   \n",
       "16167          NaN          NaN    NaN NaN   NaN  2019-03-30 22:02   \n",
       "16168          NaN          NaN    NaN NaN   NaN  2019-03-31 07:04   \n",
       "16169          NaN          NaN    NaN NaN   NaN  2019-03-31 10:10   \n",
       "16170          NaN          NaN    NaN NaN   NaN  2019-03-31 15:40   \n",
       "\n",
       "          Exit_datetime  \n",
       "0      2010-11-30 11:42  \n",
       "1      2010-11-21 14:39  \n",
       "2      2010-12-28 16:44  \n",
       "3      2010-11-12 17:22  \n",
       "4      2010-11-08 17:16  \n",
       "...                 ...  \n",
       "16166  2019-03-31 13:50  \n",
       "16167  2019-04-01 10:15  \n",
       "16168  2019-04-01 01:38  \n",
       "16169  2019-04-01 13:52  \n",
       "16170  2019-04-03 10:00  \n",
       "\n",
       "[16171 rows x 196 columns]"
      ]
     },
     "execution_count": 5,
     "metadata": {},
     "output_type": "execute_result"
    }
   ],
   "source": [
    "df_key['Ent_datetime'] = ''\n",
    "df_key['Exit_datetime'] = ''\n",
    "\n",
    "a = df_key[['Ent_date','Ent_time','Exit_date','Exit_time']].values\n",
    "b1 = [0] * len(a)\n",
    "b2 = [0] * len(a)\n",
    "for i in range(len(a)):\n",
    "    if a[i][0] is not np.nan and a[i][1] is not np.nan:\n",
    "        b1[i] = '{} {:02d}:{:02d}'.format(a[i][0], int(a[i][1]) // 100,int(a[i][1]) % 100)\n",
    "    else:\n",
    "        b1[i] = None\n",
    "    if a[i][2] is not np.nan and a[i][3] is not np.nan:\n",
    "        b2[i] = '{} {:02d}:{:02d}'.format(a[i][2], int(a[i][3]) // 100, int(a[i][3]) % 100)\n",
    "    else:\n",
    "        b2[i] = None\n",
    "df_key.Ent_datetime = b1\n",
    "df_key.Exit_datetime = b2\n",
    "\n",
    "df_key"
   ]
  },
  {
   "cell_type": "code",
   "execution_count": 6,
   "metadata": {},
   "outputs": [
    {
     "data": {
      "text/html": [
       "<div>\n",
       "<style scoped>\n",
       "    .dataframe tbody tr th:only-of-type {\n",
       "        vertical-align: middle;\n",
       "    }\n",
       "\n",
       "    .dataframe tbody tr th {\n",
       "        vertical-align: top;\n",
       "    }\n",
       "\n",
       "    .dataframe thead th {\n",
       "        text-align: right;\n",
       "    }\n",
       "</style>\n",
       "<table border=\"1\" class=\"dataframe\">\n",
       "  <thead>\n",
       "    <tr style=\"text-align: right;\">\n",
       "      <th></th>\n",
       "      <th>pID</th>\n",
       "      <th>Age</th>\n",
       "      <th>Sex</th>\n",
       "      <th>Blood_ABO</th>\n",
       "      <th>Blood_Rh</th>\n",
       "      <th>department</th>\n",
       "      <th>height</th>\n",
       "      <th>weight</th>\n",
       "      <th>Ent_datetime</th>\n",
       "      <th>Exit_datetime</th>\n",
       "      <th>...</th>\n",
       "      <th>bed_ER1</th>\n",
       "      <th>bed_ER2</th>\n",
       "      <th>bed_Emergency5</th>\n",
       "      <th>bed_Emergency8</th>\n",
       "      <th>bed_Emergency10</th>\n",
       "      <th>bed_Temporary1</th>\n",
       "      <th>bed_Temporary2</th>\n",
       "      <th>bed_Emergency_Temporary1</th>\n",
       "      <th>bed_Emergency_Temporary2</th>\n",
       "      <th>bed_Emergency_Temporary3</th>\n",
       "    </tr>\n",
       "  </thead>\n",
       "  <tbody>\n",
       "    <tr>\n",
       "      <th>0</th>\n",
       "      <td>9AYeq8l9</td>\n",
       "      <td>75.0</td>\n",
       "      <td>M</td>\n",
       "      <td>O</td>\n",
       "      <td>Rh_+</td>\n",
       "      <td>肝胆膵外科</td>\n",
       "      <td>162.9</td>\n",
       "      <td>65.0</td>\n",
       "      <td>2010-11-03 11:52</td>\n",
       "      <td>2010-11-30 11:42</td>\n",
       "      <td>...</td>\n",
       "      <td>NaN</td>\n",
       "      <td>NaN</td>\n",
       "      <td>NaN</td>\n",
       "      <td>NaN</td>\n",
       "      <td>NaN</td>\n",
       "      <td>NaN</td>\n",
       "      <td>NaN</td>\n",
       "      <td>NaN</td>\n",
       "      <td>NaN</td>\n",
       "      <td>NaN</td>\n",
       "    </tr>\n",
       "    <tr>\n",
       "      <th>1</th>\n",
       "      <td>2vKAer03</td>\n",
       "      <td>72.0</td>\n",
       "      <td>M</td>\n",
       "      <td>A</td>\n",
       "      <td>Rh_+</td>\n",
       "      <td>救急科</td>\n",
       "      <td>NaN</td>\n",
       "      <td>67.3</td>\n",
       "      <td>2010-11-03 13:14</td>\n",
       "      <td>2010-11-21 14:39</td>\n",
       "      <td>...</td>\n",
       "      <td>NaN</td>\n",
       "      <td>NaN</td>\n",
       "      <td>NaN</td>\n",
       "      <td>NaN</td>\n",
       "      <td>NaN</td>\n",
       "      <td>NaN</td>\n",
       "      <td>NaN</td>\n",
       "      <td>NaN</td>\n",
       "      <td>NaN</td>\n",
       "      <td>NaN</td>\n",
       "    </tr>\n",
       "    <tr>\n",
       "      <th>2</th>\n",
       "      <td>9RrpqrB9</td>\n",
       "      <td>40.0</td>\n",
       "      <td>M</td>\n",
       "      <td>O</td>\n",
       "      <td>Rh_+</td>\n",
       "      <td>肝胆膵外科</td>\n",
       "      <td>174.0</td>\n",
       "      <td>70.6</td>\n",
       "      <td>2010-11-03 14:19</td>\n",
       "      <td>2010-12-28 16:44</td>\n",
       "      <td>...</td>\n",
       "      <td>NaN</td>\n",
       "      <td>NaN</td>\n",
       "      <td>NaN</td>\n",
       "      <td>NaN</td>\n",
       "      <td>NaN</td>\n",
       "      <td>NaN</td>\n",
       "      <td>NaN</td>\n",
       "      <td>NaN</td>\n",
       "      <td>NaN</td>\n",
       "      <td>NaN</td>\n",
       "    </tr>\n",
       "    <tr>\n",
       "      <th>3</th>\n",
       "      <td>ng4x4Kj9</td>\n",
       "      <td>62.0</td>\n",
       "      <td>M</td>\n",
       "      <td>O</td>\n",
       "      <td>Rh_+</td>\n",
       "      <td>消化器内科</td>\n",
       "      <td>NaN</td>\n",
       "      <td>65.8</td>\n",
       "      <td>2010-11-03 13:22</td>\n",
       "      <td>2010-11-12 17:22</td>\n",
       "      <td>...</td>\n",
       "      <td>NaN</td>\n",
       "      <td>NaN</td>\n",
       "      <td>NaN</td>\n",
       "      <td>NaN</td>\n",
       "      <td>NaN</td>\n",
       "      <td>NaN</td>\n",
       "      <td>NaN</td>\n",
       "      <td>NaN</td>\n",
       "      <td>NaN</td>\n",
       "      <td>NaN</td>\n",
       "    </tr>\n",
       "    <tr>\n",
       "      <th>4</th>\n",
       "      <td>nq185Pxn</td>\n",
       "      <td>67.0</td>\n",
       "      <td>F</td>\n",
       "      <td>A</td>\n",
       "      <td>Rh_+</td>\n",
       "      <td>救急科</td>\n",
       "      <td>NaN</td>\n",
       "      <td>64.3</td>\n",
       "      <td>2010-11-03 13:37</td>\n",
       "      <td>2010-11-08 17:16</td>\n",
       "      <td>...</td>\n",
       "      <td>NaN</td>\n",
       "      <td>NaN</td>\n",
       "      <td>NaN</td>\n",
       "      <td>NaN</td>\n",
       "      <td>NaN</td>\n",
       "      <td>NaN</td>\n",
       "      <td>NaN</td>\n",
       "      <td>NaN</td>\n",
       "      <td>NaN</td>\n",
       "      <td>NaN</td>\n",
       "    </tr>\n",
       "    <tr>\n",
       "      <th>...</th>\n",
       "      <td>...</td>\n",
       "      <td>...</td>\n",
       "      <td>...</td>\n",
       "      <td>...</td>\n",
       "      <td>...</td>\n",
       "      <td>...</td>\n",
       "      <td>...</td>\n",
       "      <td>...</td>\n",
       "      <td>...</td>\n",
       "      <td>...</td>\n",
       "      <td>...</td>\n",
       "      <td>...</td>\n",
       "      <td>...</td>\n",
       "      <td>...</td>\n",
       "      <td>...</td>\n",
       "      <td>...</td>\n",
       "      <td>...</td>\n",
       "      <td>...</td>\n",
       "      <td>...</td>\n",
       "      <td>...</td>\n",
       "      <td>...</td>\n",
       "    </tr>\n",
       "    <tr>\n",
       "      <th>16166</th>\n",
       "      <td>37vywE02</td>\n",
       "      <td>69.0</td>\n",
       "      <td>F</td>\n",
       "      <td>NaN</td>\n",
       "      <td>NaN</td>\n",
       "      <td>救急科</td>\n",
       "      <td>NaN</td>\n",
       "      <td>NaN</td>\n",
       "      <td>2019-03-30 21:30</td>\n",
       "      <td>2019-03-31 13:50</td>\n",
       "      <td>...</td>\n",
       "      <td>NaN</td>\n",
       "      <td>28.0</td>\n",
       "      <td>NaN</td>\n",
       "      <td>NaN</td>\n",
       "      <td>NaN</td>\n",
       "      <td>NaN</td>\n",
       "      <td>NaN</td>\n",
       "      <td>NaN</td>\n",
       "      <td>NaN</td>\n",
       "      <td>NaN</td>\n",
       "    </tr>\n",
       "    <tr>\n",
       "      <th>16167</th>\n",
       "      <td>9EDo4eEn</td>\n",
       "      <td>45.0</td>\n",
       "      <td>M</td>\n",
       "      <td>A</td>\n",
       "      <td>Rh_+</td>\n",
       "      <td>循環器内科</td>\n",
       "      <td>175.0</td>\n",
       "      <td>96.6</td>\n",
       "      <td>2019-03-30 22:02</td>\n",
       "      <td>2019-04-01 10:15</td>\n",
       "      <td>...</td>\n",
       "      <td>44.0</td>\n",
       "      <td>NaN</td>\n",
       "      <td>NaN</td>\n",
       "      <td>NaN</td>\n",
       "      <td>NaN</td>\n",
       "      <td>NaN</td>\n",
       "      <td>NaN</td>\n",
       "      <td>NaN</td>\n",
       "      <td>NaN</td>\n",
       "      <td>NaN</td>\n",
       "    </tr>\n",
       "    <tr>\n",
       "      <th>16168</th>\n",
       "      <td>2bpBvNan</td>\n",
       "      <td>76.0</td>\n",
       "      <td>M</td>\n",
       "      <td>B</td>\n",
       "      <td>Rh_+</td>\n",
       "      <td>食道・胃腸外科</td>\n",
       "      <td>NaN</td>\n",
       "      <td>NaN</td>\n",
       "      <td>2019-03-31 07:04</td>\n",
       "      <td>2019-04-01 01:38</td>\n",
       "      <td>...</td>\n",
       "      <td>NaN</td>\n",
       "      <td>60.0</td>\n",
       "      <td>NaN</td>\n",
       "      <td>NaN</td>\n",
       "      <td>NaN</td>\n",
       "      <td>NaN</td>\n",
       "      <td>NaN</td>\n",
       "      <td>NaN</td>\n",
       "      <td>NaN</td>\n",
       "      <td>NaN</td>\n",
       "    </tr>\n",
       "    <tr>\n",
       "      <th>16169</th>\n",
       "      <td>2D7Klge9</td>\n",
       "      <td>72.0</td>\n",
       "      <td>M</td>\n",
       "      <td>A</td>\n",
       "      <td>Rh_+</td>\n",
       "      <td>消化器内科</td>\n",
       "      <td>171.5</td>\n",
       "      <td>87.5</td>\n",
       "      <td>2019-03-31 10:10</td>\n",
       "      <td>2019-04-01 13:52</td>\n",
       "      <td>...</td>\n",
       "      <td>NaN</td>\n",
       "      <td>NaN</td>\n",
       "      <td>NaN</td>\n",
       "      <td>NaN</td>\n",
       "      <td>NaN</td>\n",
       "      <td>NaN</td>\n",
       "      <td>NaN</td>\n",
       "      <td>NaN</td>\n",
       "      <td>NaN</td>\n",
       "      <td>NaN</td>\n",
       "    </tr>\n",
       "    <tr>\n",
       "      <th>16170</th>\n",
       "      <td>E3LJqRd9</td>\n",
       "      <td>56.0</td>\n",
       "      <td>M</td>\n",
       "      <td>O</td>\n",
       "      <td>Rh_+</td>\n",
       "      <td>循環器内科</td>\n",
       "      <td>171.0</td>\n",
       "      <td>83.0</td>\n",
       "      <td>2019-03-31 15:40</td>\n",
       "      <td>2019-04-03 10:00</td>\n",
       "      <td>...</td>\n",
       "      <td>NaN</td>\n",
       "      <td>63.0</td>\n",
       "      <td>NaN</td>\n",
       "      <td>NaN</td>\n",
       "      <td>NaN</td>\n",
       "      <td>NaN</td>\n",
       "      <td>NaN</td>\n",
       "      <td>NaN</td>\n",
       "      <td>NaN</td>\n",
       "      <td>NaN</td>\n",
       "    </tr>\n",
       "  </tbody>\n",
       "</table>\n",
       "<p>16171 rows × 236 columns</p>\n",
       "</div>"
      ],
      "text/plain": [
       "            pID   Age Sex Blood_ABO Blood_Rh department  height  weight  \\\n",
       "0      9AYeq8l9  75.0   M         O     Rh_+      肝胆膵外科   162.9    65.0   \n",
       "1      2vKAer03  72.0   M         A     Rh_+        救急科     NaN    67.3   \n",
       "2      9RrpqrB9  40.0   M         O     Rh_+      肝胆膵外科   174.0    70.6   \n",
       "3      ng4x4Kj9  62.0   M         O     Rh_+      消化器内科     NaN    65.8   \n",
       "4      nq185Pxn  67.0   F         A     Rh_+        救急科     NaN    64.3   \n",
       "...         ...   ...  ..       ...      ...        ...     ...     ...   \n",
       "16166  37vywE02  69.0   F       NaN      NaN        救急科     NaN     NaN   \n",
       "16167  9EDo4eEn  45.0   M         A     Rh_+      循環器内科   175.0    96.6   \n",
       "16168  2bpBvNan  76.0   M         B     Rh_+    食道・胃腸外科     NaN     NaN   \n",
       "16169  2D7Klge9  72.0   M         A     Rh_+      消化器内科   171.5    87.5   \n",
       "16170  E3LJqRd9  56.0   M         O     Rh_+      循環器内科   171.0    83.0   \n",
       "\n",
       "           Ent_datetime     Exit_datetime  ...  bed_ER1 bed_ER2  \\\n",
       "0      2010-11-03 11:52  2010-11-30 11:42  ...      NaN     NaN   \n",
       "1      2010-11-03 13:14  2010-11-21 14:39  ...      NaN     NaN   \n",
       "2      2010-11-03 14:19  2010-12-28 16:44  ...      NaN     NaN   \n",
       "3      2010-11-03 13:22  2010-11-12 17:22  ...      NaN     NaN   \n",
       "4      2010-11-03 13:37  2010-11-08 17:16  ...      NaN     NaN   \n",
       "...                 ...               ...  ...      ...     ...   \n",
       "16166  2019-03-30 21:30  2019-03-31 13:50  ...      NaN    28.0   \n",
       "16167  2019-03-30 22:02  2019-04-01 10:15  ...     44.0     NaN   \n",
       "16168  2019-03-31 07:04  2019-04-01 01:38  ...      NaN    60.0   \n",
       "16169  2019-03-31 10:10  2019-04-01 13:52  ...      NaN     NaN   \n",
       "16170  2019-03-31 15:40  2019-04-03 10:00  ...      NaN    63.0   \n",
       "\n",
       "      bed_Emergency5 bed_Emergency8 bed_Emergency10 bed_Temporary1  \\\n",
       "0                NaN            NaN             NaN            NaN   \n",
       "1                NaN            NaN             NaN            NaN   \n",
       "2                NaN            NaN             NaN            NaN   \n",
       "3                NaN            NaN             NaN            NaN   \n",
       "4                NaN            NaN             NaN            NaN   \n",
       "...              ...            ...             ...            ...   \n",
       "16166            NaN            NaN             NaN            NaN   \n",
       "16167            NaN            NaN             NaN            NaN   \n",
       "16168            NaN            NaN             NaN            NaN   \n",
       "16169            NaN            NaN             NaN            NaN   \n",
       "16170            NaN            NaN             NaN            NaN   \n",
       "\n",
       "      bed_Temporary2 bed_Emergency_Temporary1 bed_Emergency_Temporary2  \\\n",
       "0                NaN                      NaN                      NaN   \n",
       "1                NaN                      NaN                      NaN   \n",
       "2                NaN                      NaN                      NaN   \n",
       "3                NaN                      NaN                      NaN   \n",
       "4                NaN                      NaN                      NaN   \n",
       "...              ...                      ...                      ...   \n",
       "16166            NaN                      NaN                      NaN   \n",
       "16167            NaN                      NaN                      NaN   \n",
       "16168            NaN                      NaN                      NaN   \n",
       "16169            NaN                      NaN                      NaN   \n",
       "16170            NaN                      NaN                      NaN   \n",
       "\n",
       "      bed_Emergency_Temporary3  \n",
       "0                          NaN  \n",
       "1                          NaN  \n",
       "2                          NaN  \n",
       "3                          NaN  \n",
       "4                          NaN  \n",
       "...                        ...  \n",
       "16166                      NaN  \n",
       "16167                      NaN  \n",
       "16168                      NaN  \n",
       "16169                      NaN  \n",
       "16170                      NaN  \n",
       "\n",
       "[16171 rows x 236 columns]"
      ]
     },
     "execution_count": 6,
     "metadata": {},
     "output_type": "execute_result"
    }
   ],
   "source": [
    "sort_cols = ['Ent_datetime','Exit_datetime','Age','Sex']\n",
    "df2 = pd.concat([df_key.sort_values(sort_cols)[['pID']],df.sort_values(sort_cols).drop('pID',axis=1)],axis=1)\n",
    "df2"
   ]
  },
  {
   "cell_type": "code",
   "execution_count": 7,
   "metadata": {},
   "outputs": [],
   "source": [
    "df = df2"
   ]
  },
  {
   "cell_type": "markdown",
   "metadata": {},
   "source": [
    "# columns"
   ]
  },
  {
   "cell_type": "code",
   "execution_count": 8,
   "metadata": {},
   "outputs": [
    {
     "data": {
      "text/plain": [
       "array(['pID', 'Age', 'Sex', 'Blood_ABO', 'Blood_Rh', 'department',\n",
       "       'height', 'weight', 'Ent_datetime', 'Exit_datetime',\n",
       "       'days_of_stay', 'Ent_diagnosis', 'Current_diagnosis',\n",
       "       'body_restraint', 'ambulance', 'introduction', 'MET', 'Ent_route',\n",
       "       'AIDS', 'AML_MM', 'Heart_failure', 'Lymphoma',\n",
       "       'Respiratory_failure', 'Metastasis', 'Liver_failure',\n",
       "       'Immunosuppression', 'Cirrhosis', 'Maintenance_dialysis',\n",
       "       'Cardiac_arrest_resuscitation', 'Accute_DIC', 'SOFA_score',\n",
       "       'apache2_score', 'apache2_est_mortality', 'SIRS_score',\n",
       "       'FIM_score', 'outcome1', 'outcome2', 'Severity_of_sepsis', 'GOT',\n",
       "       'GPT', 'LDH', 'ALP', 'G-GTP', 'CHE', 'AMY', 'CPK', 'TP ', 'Alb',\n",
       "       'UA', 'UN', 'CRE', 'T-Bil', 'Na', 'K', 'Cl', 'Ca', 'T-CHO', 'CRP',\n",
       "       'ammonia', 'APTT', 'PT-SEC', 'PT-PER', 'PT-INR', 'WBC', 'RBC',\n",
       "       'HGB', 'HCT', 'MCV', 'MCH', 'MCHC', 'RDW', 'PLT', 'PCT', 'MPV',\n",
       "       'PDW', 'FDP', 'AT3', 'ST', 'SEG', 'EO', 'BA', 'MO', 'LY',\n",
       "       'ERYTHR.B', 'FG', 'MYEL', 'ANISO', 'pH', 'pCO2', 'pO2', 'HCO3-',\n",
       "       'TCO2', 'BEecf', 'BE_B', 'SO2', 'SO2C', 'THb', 'THbc', 'Hct',\n",
       "       'Na+', 'K+', 'Cl-', 'Ca++', 'AG', 'Glu', 'Lac', 'O2Hb', 'COHb',\n",
       "       'Methb', 'HHb', 'IL-6', 'FER', 'B-D_glucan', 'endotoxin', 'BNP',\n",
       "       'KL-6', 'Mg', 'I-P', 'C-Bil', 'nan', 'ACT',\n",
       "       'request_to_clinical_laboratory', 'HLADR', 'cGlu', 'TG',\n",
       "       'confirmed_doctor', 'measurement_category', 'SerumPCT', 'D-dimer',\n",
       "       'APTT-Sec', 'APTT-ratio', 'HR', 'Pulse', 'RR', 'SpO2', 'ARTs',\n",
       "       'ARTm', 'ARTd', 'CVP', 'T1', 'etCO2', 'NBPs', 'NBPd',\n",
       "       'axillary_temperature', 'T2', 'rResp_imp', 'RESP_co2', 'CCO',\n",
       "       'PAPs', 'PAPd', 'CCI', 'CO', 'CI', 'BIS', 'SR (bis)', 'SQI (bis)',\n",
       "       'EMG (bis)', 'SEF95 (bis)', 'SvO2_CCO', 'TB_CCO', 'GEF (PICCO)',\n",
       "       'PPV (PICCO)', 'CI (PICCO)', 'CO (PICCO)', 'Dot_ID_low_PICCO',\n",
       "       'EVLW (PICCO)', 'ELWI (PICCO)', 'GEDV (PICCO)', 'GEDI (PICCO)',\n",
       "       'ITBV (PICCO)', 'ITBI (PICCO)', 'PCCI (PICCO)', 'PCCO (PICCO)',\n",
       "       'PVPI (PICCO)', 'SV (PICCO)', 'SVI (PICCO)', 'SVR (PICCO)',\n",
       "       'SVRI (PICCO)', 'SVV (PICCO)', 'CCOSV', 'ART_2s', 'ART_2m', 'ICPm',\n",
       "       'ART_2d', 'PAPm', 'SVV(Vigileo)', 'rSO2-1(INVOS)', 'rSO2-2(INVOS)',\n",
       "       'rSO2-3(INVOS)', 'rSO2-4(INVOS)', 'TBlood', 'SVV', 'ScvO2',\n",
       "       'bed_A1', 'bed_A2', 'bed_A3', 'bed_A4', 'bed_A5', 'bed_A6',\n",
       "       'bed_A7', 'bed_A8', 'bed_C1', 'bed_C2', 'bed_C3', 'bed_C4',\n",
       "       'bed_C5', 'bed_C6', 'bed_B1', 'bed_B2', 'bed_B3', 'bed_B4',\n",
       "       'bed_B5', 'bed_B6', 'bed_B7', 'bed_B8', 'bed_Ward1', 'bed_Ward2',\n",
       "       'bed_Ward3', 'bed_Ward4', 'bed_Ward5', 'bed_Ward6', 'bed_Ward7',\n",
       "       'bed_Ward8', 'bed_Ward9', 'bed_Ward10', 'bed_EROPE', 'bed_ER1',\n",
       "       'bed_ER2', 'bed_Emergency5', 'bed_Emergency8', 'bed_Emergency10',\n",
       "       'bed_Temporary1', 'bed_Temporary2', 'bed_Emergency_Temporary1',\n",
       "       'bed_Emergency_Temporary2', 'bed_Emergency_Temporary3'],\n",
       "      dtype=object)"
      ]
     },
     "execution_count": 8,
     "metadata": {},
     "output_type": "execute_result"
    }
   ],
   "source": [
    "df.columns.values"
   ]
  },
  {
   "cell_type": "code",
   "execution_count": 9,
   "metadata": {},
   "outputs": [
    {
     "name": "stdout",
     "output_type": "stream",
     "text": [
      "['bed_Emergency_Temporary3']\n"
     ]
    }
   ],
   "source": [
    "# columns all rows are NaN\n",
    "cols = []\n",
    "for col in df.columns:\n",
    "    if df[col].isnull().sum() == len(df):\n",
    "        cols.append(col)\n",
    "print(cols)\n",
    "df.drop(cols, axis=1, inplace=True)"
   ]
  },
  {
   "cell_type": "code",
   "execution_count": 10,
   "metadata": {},
   "outputs": [
    {
     "data": {
      "text/plain": [
       "array(['pID', 'Age', 'Sex', 'Blood_ABO', 'Blood_Rh', 'department',\n",
       "       'height', 'weight', 'Ent_datetime', 'Exit_datetime',\n",
       "       'days_of_stay', 'Ent_diagnosis', 'Current_diagnosis',\n",
       "       'body_restraint', 'ambulance', 'introduction', 'MET', 'Ent_route',\n",
       "       'AIDS', 'AML_MM', 'Heart_failure', 'Lymphoma',\n",
       "       'Respiratory_failure', 'Metastasis', 'Liver_failure',\n",
       "       'Immunosuppression', 'Cirrhosis', 'Maintenance_dialysis',\n",
       "       'Cardiac_arrest_resuscitation', 'Accute_DIC', 'SOFA_score',\n",
       "       'apache2_score', 'apache2_est_mortality', 'SIRS_score',\n",
       "       'FIM_score', 'outcome1', 'outcome2', 'Severity_of_sepsis', 'GOT',\n",
       "       'GPT', 'LDH', 'ALP', 'G-GTP', 'CHE', 'AMY', 'CPK', 'TP ', 'Alb',\n",
       "       'UA', 'UN', 'CRE', 'T-Bil', 'Na', 'K', 'Cl', 'Ca', 'T-CHO', 'CRP',\n",
       "       'ammonia', 'APTT', 'PT-SEC', 'PT-PER', 'PT-INR', 'WBC', 'RBC',\n",
       "       'HGB', 'HCT', 'MCV', 'MCH', 'MCHC', 'RDW', 'PLT', 'PCT', 'MPV',\n",
       "       'PDW', 'FDP', 'AT3', 'ST', 'SEG', 'EO', 'BA', 'MO', 'LY',\n",
       "       'ERYTHR.B', 'FG', 'MYEL', 'ANISO', 'pH', 'pCO2', 'pO2', 'HCO3-',\n",
       "       'TCO2', 'BEecf', 'BE_B', 'SO2', 'SO2C', 'THb', 'THbc', 'Hct',\n",
       "       'Na+', 'K+', 'Cl-', 'Ca++', 'AG', 'Glu', 'Lac', 'O2Hb', 'COHb',\n",
       "       'Methb', 'HHb', 'IL-6', 'FER', 'B-D_glucan', 'endotoxin', 'BNP',\n",
       "       'KL-6', 'Mg', 'I-P', 'C-Bil', 'nan', 'ACT',\n",
       "       'request_to_clinical_laboratory', 'HLADR', 'cGlu', 'TG',\n",
       "       'confirmed_doctor', 'measurement_category', 'SerumPCT', 'D-dimer',\n",
       "       'APTT-Sec', 'APTT-ratio', 'HR', 'Pulse', 'RR', 'SpO2', 'ARTs',\n",
       "       'ARTm', 'ARTd', 'CVP', 'T1', 'etCO2', 'NBPs', 'NBPd',\n",
       "       'axillary_temperature', 'T2', 'rResp_imp', 'RESP_co2', 'CCO',\n",
       "       'PAPs', 'PAPd', 'CCI', 'CO', 'CI', 'BIS', 'SR (bis)', 'SQI (bis)',\n",
       "       'EMG (bis)', 'SEF95 (bis)', 'SvO2_CCO', 'TB_CCO', 'GEF (PICCO)',\n",
       "       'PPV (PICCO)', 'CI (PICCO)', 'CO (PICCO)', 'Dot_ID_low_PICCO',\n",
       "       'EVLW (PICCO)', 'ELWI (PICCO)', 'GEDV (PICCO)', 'GEDI (PICCO)',\n",
       "       'ITBV (PICCO)', 'ITBI (PICCO)', 'PCCI (PICCO)', 'PCCO (PICCO)',\n",
       "       'PVPI (PICCO)', 'SV (PICCO)', 'SVI (PICCO)', 'SVR (PICCO)',\n",
       "       'SVRI (PICCO)', 'SVV (PICCO)', 'CCOSV', 'ART_2s', 'ART_2m', 'ICPm',\n",
       "       'ART_2d', 'PAPm', 'SVV(Vigileo)', 'rSO2-1(INVOS)', 'rSO2-2(INVOS)',\n",
       "       'rSO2-3(INVOS)', 'rSO2-4(INVOS)', 'TBlood', 'SVV', 'ScvO2',\n",
       "       'bed_A1', 'bed_A2', 'bed_A3', 'bed_A4', 'bed_A5', 'bed_A6',\n",
       "       'bed_A7', 'bed_A8', 'bed_C1', 'bed_C2', 'bed_C3', 'bed_C4',\n",
       "       'bed_C5', 'bed_C6', 'bed_B1', 'bed_B2', 'bed_B3', 'bed_B4',\n",
       "       'bed_B5', 'bed_B6', 'bed_B7', 'bed_B8', 'bed_Ward1', 'bed_Ward2',\n",
       "       'bed_Ward3', 'bed_Ward4', 'bed_Ward5', 'bed_Ward6', 'bed_Ward7',\n",
       "       'bed_Ward8', 'bed_Ward9', 'bed_Ward10', 'bed_EROPE', 'bed_ER1',\n",
       "       'bed_ER2', 'bed_Emergency5', 'bed_Emergency8', 'bed_Emergency10',\n",
       "       'bed_Temporary1', 'bed_Temporary2', 'bed_Emergency_Temporary1',\n",
       "       'bed_Emergency_Temporary2'], dtype=object)"
      ]
     },
     "execution_count": 10,
     "metadata": {},
     "output_type": "execute_result"
    }
   ],
   "source": [
    "df.columns.values"
   ]
  },
  {
   "cell_type": "markdown",
   "metadata": {},
   "source": [
    "# numeric colums"
   ]
  },
  {
   "cell_type": "code",
   "execution_count": 11,
   "metadata": {},
   "outputs": [],
   "source": [
    "cols_numeric = df.columns.values.tolist()\n",
    "cols_numeric.remove('pID')"
   ]
  },
  {
   "cell_type": "markdown",
   "metadata": {},
   "source": [
    "# category columns"
   ]
  },
  {
   "cell_type": "code",
   "execution_count": 12,
   "metadata": {},
   "outputs": [],
   "source": [
    "# initialize\n",
    "cols_category = []"
   ]
  },
  {
   "cell_type": "markdown",
   "metadata": {},
   "source": [
    "## Sex"
   ]
  },
  {
   "cell_type": "code",
   "execution_count": 13,
   "metadata": {},
   "outputs": [
    {
     "name": "stdout",
     "output_type": "stream",
     "text": [
      "M      9721\n",
      "F      5779\n",
      "NaN     671\n",
      "Name: Sex, dtype: int64\n"
     ]
    },
    {
     "data": {
      "text/plain": [
       "<matplotlib.axes._subplots.AxesSubplot at 0x7fef9eb1b590>"
      ]
     },
     "execution_count": 13,
     "metadata": {},
     "output_type": "execute_result"
    },
    {
     "data": {
      "image/png": "[encoded data removed]",
      "text/plain": [
       "<Figure size 432x288 with 1 Axes>"
      ]
     },
     "metadata": {
      "needs_background": "light"
     },
     "output_type": "display_data"
    }
   ],
   "source": [
    "print(df.Sex.value_counts(dropna=False))\n",
    "df.Sex.value_counts(dropna=False).plot.bar()"
   ]
  },
  {
   "cell_type": "code",
   "execution_count": 14,
   "metadata": {},
   "outputs": [],
   "source": [
    "# add dummy variable\n",
    "df_dummy = pd.get_dummies(df.Sex, prefix='Sex', dummy_na=True)\n",
    "df = pd.concat([df, df_dummy], axis=1)"
   ]
  },
  {
   "cell_type": "code",
   "execution_count": 15,
   "metadata": {},
   "outputs": [],
   "source": [
    "cols_category.extend(df_dummy.columns.values)\n",
    "cols_numeric.remove('Sex')"
   ]
  },
  {
   "cell_type": "markdown",
   "metadata": {},
   "source": [
    "## Blood_ABO\t"
   ]
  },
  {
   "cell_type": "code",
   "execution_count": 16,
   "metadata": {},
   "outputs": [
    {
     "name": "stdout",
     "output_type": "stream",
     "text": [
      "A      4932\n",
      "O      4165\n",
      "B      3032\n",
      "NaN    2707\n",
      "AB     1299\n",
      "移        31\n",
      "その他       5\n",
      "Name: Blood_ABO, dtype: int64\n"
     ]
    },
    {
     "data": {
      "text/plain": [
       "<matplotlib.axes._subplots.AxesSubplot at 0x7fef9fb886d0>"
      ]
     },
     "execution_count": 16,
     "metadata": {},
     "output_type": "execute_result"
    },
    {
     "data": {
      "image/png": "[encoded data removed]",
      "text/plain": [
       "<Figure size 432x288 with 1 Axes>"
      ]
     },
     "metadata": {
      "needs_background": "light"
     },
     "output_type": "display_data"
    }
   ],
   "source": [
    "print(df.Blood_ABO.value_counts(dropna=False))\n",
    "df.Blood_ABO.value_counts(dropna=False).plot.bar()"
   ]
  },
  {
   "cell_type": "code",
   "execution_count": 17,
   "metadata": {},
   "outputs": [],
   "source": [
    "# to En\n",
    "df.loc[df.Blood_ABO == '移', 'Blood_ABO'] = 't'\n",
    "df.loc[df.Blood_ABO == 'その他', 'Blood_ABO'] = 'other'"
   ]
  },
  {
   "cell_type": "code",
   "execution_count": 18,
   "metadata": {},
   "outputs": [],
   "source": [
    "# add dummy variable\n",
    "df_dummy = pd.get_dummies(df.Blood_ABO, prefix='Blood_ABO', dummy_na=True)\n",
    "df = pd.concat([df, df_dummy], axis=1)"
   ]
  },
  {
   "cell_type": "code",
   "execution_count": 19,
   "metadata": {},
   "outputs": [],
   "source": [
    "cols_category.extend(df_dummy.columns.values)\n",
    "cols_numeric.remove('Blood_ABO')"
   ]
  },
  {
   "cell_type": "markdown",
   "metadata": {},
   "source": [
    "## Blood_Rh"
   ]
  },
  {
   "cell_type": "code",
   "execution_count": 20,
   "metadata": {},
   "outputs": [
    {
     "name": "stdout",
     "output_type": "stream",
     "text": [
      "Rh_+    13384\n",
      "NaN      2709\n",
      "Rh_-       78\n",
      "Name: Blood_Rh, dtype: int64\n"
     ]
    },
    {
     "data": {
      "text/plain": [
       "<matplotlib.axes._subplots.AxesSubplot at 0x7fefa03d7a50>"
      ]
     },
     "execution_count": 20,
     "metadata": {},
     "output_type": "execute_result"
    },
    {
     "data": {
      "image/png": "[encoded data removed]",
      "text/plain": [
       "<Figure size 432x288 with 1 Axes>"
      ]
     },
     "metadata": {
      "needs_background": "light"
     },
     "output_type": "display_data"
    }
   ],
   "source": [
    "print(df.Blood_Rh.value_counts(dropna=False))\n",
    "df.Blood_Rh.value_counts(dropna=False).plot.bar()"
   ]
  },
  {
   "cell_type": "code",
   "execution_count": 21,
   "metadata": {},
   "outputs": [],
   "source": [
    "# add dummy variable\n",
    "df_dummy = pd.get_dummies(df.Blood_Rh, prefix='Blood_Rh', dummy_na=True)\n",
    "df = pd.concat([df, df_dummy], axis=1)"
   ]
  },
  {
   "cell_type": "code",
   "execution_count": 22,
   "metadata": {},
   "outputs": [],
   "source": [
    "cols_category.extend(df_dummy.columns.values)\n",
    "cols_numeric.remove('Blood_Rh')"
   ]
  },
  {
   "cell_type": "markdown",
   "metadata": {},
   "source": [
    "## department"
   ]
  },
  {
   "cell_type": "code",
   "execution_count": 23,
   "metadata": {},
   "outputs": [
    {
     "name": "stdout",
     "output_type": "stream",
     "text": [
      "救急科             3289\n",
      "循環器内科           2809\n",
      "心臓血管外科          2415\n",
      "脳神経外科           1793\n",
      "肝胆膵外科           1405\n",
      "食道・胃腸外科         1069\n",
      "NaN              686\n",
      "歯科・顎・口腔外科        449\n",
      "耳鼻咽喉・頭頚部外科       415\n",
      "整形外科             275\n",
      "泌尿器科             173\n",
      "形成・美容外科          170\n",
      "小児科              167\n",
      "血液内科             151\n",
      "呼吸器外科            138\n",
      "消化器内科            132\n",
      "呼吸器内科            112\n",
      "婦人科               99\n",
      "脳神経内科             76\n",
      "小児外科              74\n",
      "人工腎臓部             69\n",
      "アレルギー・膠原病内科       59\n",
      "周産期・母性科           37\n",
      "糖尿病・代謝・内分泌内科      21\n",
      "皮膚科               19\n",
      "精神神経科             19\n",
      "乳腺・甲状腺外科          12\n",
      "腎臓内科              11\n",
      "臨床腫瘍部              7\n",
      "感染症内科              7\n",
      "放射線科               4\n",
      "眼科                 4\n",
      "集中治療部              2\n",
      "冠動脈疾患治療部           2\n",
      "麻酔・疼痛・緩和医療科        1\n",
      "Name: department, dtype: int64\n"
     ]
    },
    {
     "data": {
      "text/plain": [
       "<matplotlib.axes._subplots.AxesSubplot at 0x7fef9fdefe10>"
      ]
     },
     "execution_count": 23,
     "metadata": {},
     "output_type": "execute_result"
    },
    {
     "data": {
      "image/png": "[encoded data removed]",
      "text/plain": [
       "<Figure size 432x288 with 1 Axes>"
      ]
     },
     "metadata": {
      "needs_background": "light"
     },
     "output_type": "display_data"
    }
   ],
   "source": [
    "print(df.department.value_counts(dropna=False))\n",
    "df.department.value_counts(dropna=False).plot.bar()"
   ]
  },
  {
   "cell_type": "code",
   "execution_count": 24,
   "metadata": {},
   "outputs": [],
   "source": [
    "# to En\n",
    "df.loc[df.department == '救急科', 'department'] = 'Emergency'\n",
    "df.loc[df.department == '循環器内科', 'department'] = 'Cardiology'\n",
    "df.loc[df.department == '心臓血管外科', 'department'] = 'Cardiovascular_surgery'\n",
    "df.loc[df.department == '脳神経外科', 'department'] = 'Neurosurgery'\n",
    "df.loc[df.department == '肝胆膵外科', 'department'] = 'Hepatobiliary_pancreatic_surgery'\n",
    "df.loc[df.department == '食道・胃腸外科', 'department'] = 'Esophageal_gastrointestinal_surgery'\n",
    "df.loc[df.department == '歯科・顎・口腔外科', 'department'] = 'Dentistry_jaw_oral_surgery'\n",
    "df.loc[df.department == '耳鼻咽喉・頭頚部外科', 'department'] = 'Otolaryngology_Head_and_Neck_Surgery'\n",
    "df.loc[df.department == '整形外科', 'department'] = 'Orthopedics'\n",
    "df.loc[df.department == '泌尿器科', 'department'] = 'Urology'\n",
    "df.loc[df.department == '形成・美容外科', 'department'] = 'Plastic_surgery'\n",
    "df.loc[df.department == '小児科', 'department'] = 'Pediatrics'\n",
    "df.loc[df.department == '血液内科', 'department'] = 'Hematology'\n",
    "df.loc[df.department == '呼吸器外科', 'department'] = 'Respiratory_surgery'\n",
    "df.loc[df.department == '消化器内科', 'department'] = 'Gastroenterology'\n",
    "df.loc[df.department == '呼吸器内科', 'department'] = 'Respiratory_medicine'\n",
    "df.loc[df.department == '婦人科', 'department'] = 'Gynecology'\n",
    "df.loc[df.department == '脳神経内科', 'department'] = 'Neurology'\n",
    "df.loc[df.department == '小児外科', 'department'] = 'Pediatric_surgery'\n",
    "df.loc[df.department == '人工腎臓部', 'department'] = 'Artificial_kidney'\n",
    "df.loc[df.department == 'アレルギー・膠原病内科', 'department'] = 'Internal_Medicine_for_Allergies_and_Collagen_Diseases'\n",
    "df.loc[df.department == '周産期・母性科', 'department'] = 'Perinatal_maternity'\n",
    "df.loc[df.department == '糖尿病・代謝・内分泌内科', 'department'] = 'Diabetes_Metabolism_Endocrinology'\n",
    "df.loc[df.department == '精神神経科', 'department'] = 'Psychiatry'\n",
    "df.loc[df.department == '皮膚科', 'department'] = 'Dermatology'\n",
    "df.loc[df.department == '乳腺・甲状腺外科', 'department'] = 'Breast and thyroid_surgery'\n",
    "df.loc[df.department == '腎臓内科', 'department'] = 'Nephrology'\n",
    "df.loc[df.department == '臨床腫瘍部', 'department'] = 'Clinical_tumor'\n",
    "df.loc[df.department == '感染症内科', 'department'] = 'Infectious_Disease_Internal_Medicine'\n",
    "df.loc[df.department == '眼科', 'department'] = 'Ophthalmology'\n",
    "df.loc[df.department == '放射線科', 'department'] = 'Radiology'\n",
    "df.loc[df.department == '冠動脈疾患治療部', 'department'] = 'Coronary_artery_disease_treatment '\n",
    "df.loc[df.department == '集中治療部', 'department'] = 'Intensive_care_unit'\n",
    "df.loc[df.department == '麻酔・疼痛・緩和医療科', 'department'] = 'Anesthesia_Pain_Palliative_Medicine'"
   ]
  },
  {
   "cell_type": "code",
   "execution_count": 25,
   "metadata": {},
   "outputs": [],
   "source": [
    "# add dummy variable\n",
    "df_dummy = pd.get_dummies(df.department, prefix='department', dummy_na=True)\n",
    "df = pd.concat([df, df_dummy], axis=1)"
   ]
  },
  {
   "cell_type": "code",
   "execution_count": 26,
   "metadata": {},
   "outputs": [],
   "source": [
    "cols_category.extend(df_dummy.columns.values)\n",
    "cols_numeric.remove('department')"
   ]
  },
  {
   "cell_type": "markdown",
   "metadata": {},
   "source": [
    "## Ent_datetime"
   ]
  },
  {
   "cell_type": "code",
   "execution_count": 27,
   "metadata": {},
   "outputs": [],
   "source": [
    "# add dummy variable\n",
    "df['Ent_time1'] = 0\n",
    "df['Ent_time2'] = 0\n",
    "df['Ent_time3'] = 0\n",
    "\n",
    "a = df.Ent_datetime.values\n",
    "b1 = [0] * len(a)\n",
    "b2 = [0] * len(a)\n",
    "b3 = [0] * len(a)\n",
    "for i in range(len(a)):\n",
    "    if a[i] != a[i]:\n",
    "        continue\n",
    "    int_time = int(a[i][11:13] + a[i][14:16])\n",
    "    if 900 <= int_time and int_time < 1700:\n",
    "        b1[i] = 1\n",
    "    elif 1700 <= int_time or int_time < 100:\n",
    "        b2[i] = 1\n",
    "    elif 100 <= int_time and int_time < 900:\n",
    "        b3[i] = 1\n",
    "\n",
    "df.Ent_time1 = b1\n",
    "df.Ent_time2 = b2\n",
    "df.Ent_time3 = b3"
   ]
  },
  {
   "cell_type": "code",
   "execution_count": 28,
   "metadata": {},
   "outputs": [],
   "source": [
    "cols_category.extend(['Ent_time1', 'Ent_time2', 'Ent_time3'])\n",
    "cols_numeric.remove('Ent_datetime')"
   ]
  },
  {
   "cell_type": "markdown",
   "metadata": {},
   "source": [
    "## Exit_datetime"
   ]
  },
  {
   "cell_type": "code",
   "execution_count": 29,
   "metadata": {},
   "outputs": [],
   "source": [
    "cols_numeric.remove('Exit_datetime')"
   ]
  },
  {
   "cell_type": "markdown",
   "metadata": {},
   "source": [
    "## Ent_diagnosis"
   ]
  },
  {
   "cell_type": "code",
   "execution_count": 30,
   "metadata": {},
   "outputs": [
    {
     "name": "stdout",
     "output_type": "stream",
     "text": [
      "NaN                         9983\n",
      "うっ血性心不全                      102\n",
      "急性心筋梗塞                        87\n",
      "食道癌                           75\n",
      "不安定狭心症                        71\n",
      "                            ... \n",
      "慢性腎不全，CABG術後，慢性感染              1\n",
      "頚椎後縦靱帯骨化症，間質性肺炎，ペースメーカー心       1\n",
      "播種性血管内凝固、四肢紫斑、リンパ腫治療後          1\n",
      "内頚動脈瘤術後                        1\n",
      "TAA・BAV                        1\n",
      "Name: Ent_diagnosis, Length: 3634, dtype: int64\n"
     ]
    }
   ],
   "source": [
    "print(df.Ent_diagnosis.value_counts(dropna=False))"
   ]
  },
  {
   "cell_type": "code",
   "execution_count": 31,
   "metadata": {},
   "outputs": [],
   "source": [
    "# to En\n",
    "df.loc[df.Ent_diagnosis == 'うっ血性心不全', 'Ent_diagnosis'] = 'Congestive_heart_failure'\n",
    "df.loc[df.Ent_diagnosis == '心不全', 'Ent_diagnosis'] = 'heart_failure'\n",
    "df.loc[df.Ent_diagnosis == '肺炎', 'Ent_diagnosis'] = 'pneumonia'\n",
    "df.loc[df.Ent_diagnosis == '急性心筋梗塞', 'Ent_diagnosis'] = 'Acute_myocardial_infarction'\n",
    "# df.loc[df.Ent_diagnosis == 'AS', 'Ent_diagnosis'] = 'AS'\n",
    "df.loc[df.Ent_diagnosis == '呼吸不全', 'Ent_diagnosis'] = 'Respiratory_failure'\n",
    "df.loc[df.Ent_diagnosis == '大動脈弁狭窄症', 'Ent_diagnosis'] = 'Aortic_stenosis'\n",
    "df.loc[df.Ent_diagnosis == '食道癌', 'Ent_diagnosis'] = 'Esophageal_cancer'\n",
    "df.loc[df.Ent_diagnosis == '不安定狭心症', 'Ent_diagnosis'] = 'Unstable_angina'\n",
    "df.loc[df.Ent_diagnosis == '敗血症性ｼｮｯｸ', 'Ent_diagnosis'] = 'Septic_shock'\n",
    "df.loc[df.Ent_diagnosis == '慢性腎不全', 'Ent_diagnosis'] = 'Chronic_renal_failure'\n",
    "# df.loc[df.Ent_diagnosis == 'MR', 'Ent_diagnosis'] = 'MR'\n",
    "df.loc[df.Ent_diagnosis == '食道癌術後', 'Ent_diagnosis'] = 'Postoperative_esophageal_cancer'\n",
    "df.loc[df.Ent_diagnosis == '意識障害', 'Ent_diagnosis'] = 'Disturbance_of_consciousness'\n",
    "df.loc[df.Ent_diagnosis == '誤嚥性肺炎', 'Ent_diagnosis'] = 'Aspiration pneumonia'\n",
    "df.loc[df.Ent_diagnosis == '急性腎不全', 'Ent_diagnosis'] = 'Acute_renal_failure'\n",
    "df.loc[df.Ent_diagnosis == '狭心症', 'Ent_diagnosis'] = 'Angina'\n",
    "df.loc[df.Ent_diagnosis == '出血性ｼｮｯｸ', 'Ent_diagnosis'] = 'Hemorrhagic_shock'\n",
    "df.loc[df.Ent_diagnosis == '胸部大動脈瘤', 'Ent_diagnosis'] = 'Thoracic_aortic_aneurysm'\n",
    "# df.loc[df.Ent_diagnosis == 'AMI', 'Ent_diagnosis'] = 'AMI'\n",
    "df.loc[df.Ent_diagnosis == 'くも膜下出血', 'Ent_diagnosis'] = 'subarachnoid_hemorrhage'\n",
    "df.loc[df.Ent_diagnosis == '脳梗塞', 'Ent_diagnosis'] = 'cerebral_infarction'\n",
    "df.loc[df.Ent_diagnosis == '重症急性膵炎', 'Ent_diagnosis'] = 'Severe_acute_pancreatitis'\n",
    "df.loc[df.Ent_diagnosis == '僧帽弁閉鎖不全症', 'Ent_diagnosis'] = 'Mitral_regurgitation'\n",
    "df.loc[df.Ent_diagnosis == 'OHCA', 'Ent_diagnosis'] = 'OHCA'\n",
    "df.loc[df.Ent_diagnosis == '骨盤骨折', 'Ent_diagnosis'] = 'Pelvic_fracture'\n",
    "df.loc[df.Ent_diagnosis == '膵頭部癌', 'Ent_diagnosis'] = 'Pancreatic_head_cancer'\n",
    "df.loc[df.Ent_diagnosis == '腹部大動脈瘤', 'Ent_diagnosis'] = 'Abdominal_aortic_aneurysm'\n",
    "df.loc[df.Ent_diagnosis == '脳腫瘍', 'Ent_diagnosis'] = 'Brain_tumor'\n",
    "df.loc[df.Ent_diagnosis == '急性呼吸不全', 'Ent_diagnosis'] = 'Acute_respiratory_failure'\n",
    "df.loc[df.Ent_diagnosis == '髄膜腫', 'Ent_diagnosis'] = 'Meningioma'\n",
    "df.loc[df.Ent_diagnosis == '脳挫傷', 'Ent_diagnosis'] = 'Brain_contusion'\n",
    "df.loc[df.Ent_diagnosis == '下垂体腺腫', 'Ent_diagnosis'] = 'Pituitary_adenoma'\n",
    "df.loc[df.Ent_diagnosis == '膵癌', 'Ent_diagnosis'] = 'Pancreatic_cancer'\n",
    "df.loc[df.Ent_diagnosis == '急性心不全', 'Ent_diagnosis'] = 'Acute_heart_failure'\n",
    "df.loc[df.Ent_diagnosis == '心肺停止蘇生後', 'Ent_diagnosis'] = 'After_cardiopulmonary_arrest_resuscitation'\n",
    "df.loc[df.Ent_diagnosis == '心室頻拍', 'Ent_diagnosis'] = 'Ventricular_tachycardia'\n",
    "df.loc[df.Ent_diagnosis == '上部消化管出血', 'Ent_diagnosis'] = 'Upper_gastrointestinal_bleeding'\n",
    "# df.loc[df.Ent_diagnosis == 'TR', 'Ent_diagnosis'] = 'TR'\n",
    "df.loc[df.Ent_diagnosis == '急性薬物中毒', 'Ent_diagnosis'] = 'Acute_drug_addiction'\n",
    "df.loc[df.Ent_diagnosis == '腎不全', 'Ent_diagnosis'] = 'kidney_failure'\n",
    "df.loc[df.Ent_diagnosis == '心筋梗塞', 'Ent_diagnosis'] = 'Myocardial_infarction'\n",
    "df.loc[df.Ent_diagnosis == '脳出血', 'Ent_diagnosis'] = 'cerebral_hemorrhage'\n",
    "# df.loc[df.Ent_diagnosis == 'AR', 'Ent_diagnosis'] = 'AR'\n",
    "# df.loc[df.Ent_diagnosis == 'AF', 'Ent_diagnosis'] = 'AF'\n",
    "# df.loc[df.Ent_diagnosis == 'TAA', 'Ent_diagnosis'] = 'TAA'\n",
    "df.loc[df.Ent_diagnosis == '敗血症', 'Ent_diagnosis'] = 'Sepsis'\n",
    "# df.loc[df.Ent_diagnosis == 'CAD', 'Ent_diagnosis'] = 'CAD'\n",
    "df.loc[df.Ent_diagnosis == '舌癌', 'Ent_diagnosis'] = 'Tongue_cancer'\n",
    "df.loc[df.Ent_diagnosis == '大動脈弁閉鎖不全症', 'Ent_diagnosis'] = 'Aortic_regurgitation'\n"
   ]
  },
  {
   "cell_type": "code",
   "execution_count": 32,
   "metadata": {},
   "outputs": [],
   "source": [
    "# dummy variable\n",
    "cols = ['Congestive_heart_failure', 'heart_failure', 'pneumonia', 'Acute_myocardial_infarction', 'AS', 'Respiratory_failure', \\\n",
    "        'Aortic_stenosis', 'Esophageal_cancer', 'Unstable_angina', 'Septic_shock', 'Chronic_renal_failure', 'MR', \\\n",
    "        'Postoperative_esophageal_cancer', 'Disturbance_of_consciousness', 'Aspiration pneumonia', 'Acute_renal_failure', \\\n",
    "        'Angina', 'Hemorrhagic_shock', 'Thoracic_aortic_aneurysm', 'AMI', 'subarachnoid_hemorrhage', 'cerebral_infarction', \\\n",
    "        'Severe_acute_pancreatitis', 'Mitral_regurgitation', 'OHCA', 'Pelvic_fracture', 'Pancreatic_head_cancer', \\\n",
    "        'Abdominal_aortic_aneurysm', 'Brain_tumor', 'Acute_respiratory_failure', 'Meningioma', 'Brain_contusion', \\\n",
    "        'Pituitary_adenoma', 'Pancreatic_cancer', 'Acute_heart_failure', 'After_cardiopulmonary_arrest_resuscitation', \\\n",
    "        'Ventricular_tachycardia', 'Upper_gastrointestinal_bleeding', 'TR', 'Acute_drug_addiction', 'kidney_failure', \\\n",
    "        'Myocardial_infarction', 'cerebral_hemorrhage', 'AR', 'AF', 'TAA', 'Sepsis', 'CAD', 'Tongue_cancer', 'Aortic_regurgitation']\n",
    "df['Ent_diagnosis2'] = df.Ent_diagnosis.copy()\n",
    "df.Ent_diagnosis2 = df.Ent_diagnosis2.fillna('-')\n",
    "df.Ent_diagnosis2 = df.Ent_diagnosis2.apply(lambda x: jaconv.z2h(x, kana=True, digit=True, ascii=True).upper().strip())\n",
    "for item in cols:\n",
    "    col = 'Ent_diagnosis_'+item\n",
    "    df[col] = df.Ent_diagnosis2.apply(lambda x: 1 if item in x.split('、') or item in x.split(', ') or item in x.split(',') or item in x.split('，') or item in x.split('・') else 0)\n",
    "    cols_category.append(col)    \n",
    "df.drop('Ent_diagnosis2', axis=1, inplace=True)"
   ]
  },
  {
   "cell_type": "code",
   "execution_count": 33,
   "metadata": {},
   "outputs": [],
   "source": [
    "# cols_category is above\n",
    "cols_numeric.remove('Ent_diagnosis')"
   ]
  },
  {
   "cell_type": "markdown",
   "metadata": {},
   "source": [
    "## Current_diagnosis"
   ]
  },
  {
   "cell_type": "code",
   "execution_count": 34,
   "metadata": {},
   "outputs": [],
   "source": [
    "# do not use Current_diagnosis\n",
    "df.drop('Current_diagnosis', axis=1, inplace=True)\n",
    "cols_numeric.remove('Current_diagnosis')"
   ]
  },
  {
   "cell_type": "markdown",
   "metadata": {},
   "source": [
    "## body_restraint"
   ]
  },
  {
   "cell_type": "code",
   "execution_count": 35,
   "metadata": {},
   "outputs": [
    {
     "name": "stdout",
     "output_type": "stream",
     "text": [
      "NaN       14470\n",
      "身体拘束あり     1701\n",
      "Name: body_restraint, dtype: int64\n"
     ]
    },
    {
     "data": {
      "text/plain": [
       "<matplotlib.axes._subplots.AxesSubplot at 0x7fefb30fe490>"
      ]
     },
     "execution_count": 35,
     "metadata": {},
     "output_type": "execute_result"
    },
    {
     "data": {
      "image/png": "[encoded data removed]",
      "text/plain": [
       "<Figure size 432x288 with 1 Axes>"
      ]
     },
     "metadata": {
      "needs_background": "light"
     },
     "output_type": "display_data"
    }
   ],
   "source": [
    "print(df.body_restraint.value_counts(dropna=False))\n",
    "df.body_restraint.value_counts(dropna=False).plot.bar()"
   ]
  },
  {
   "cell_type": "code",
   "execution_count": 36,
   "metadata": {},
   "outputs": [],
   "source": [
    "# to En\n",
    "df.loc[df.body_restraint == '身体拘束あり', 'body_restraint'] = 'Yes'\n"
   ]
  },
  {
   "cell_type": "code",
   "execution_count": 37,
   "metadata": {},
   "outputs": [],
   "source": [
    "# Yes→1、NaN→0\n",
    "df.loc[df.body_restraint != 'Yes', ['body_restraint']] = 0\n",
    "df.loc[df.body_restraint == 'Yes', ['body_restraint']] = 1"
   ]
  },
  {
   "cell_type": "code",
   "execution_count": 38,
   "metadata": {},
   "outputs": [],
   "source": [
    "cols_category.append('body_restraint')\n",
    "cols_numeric.remove('body_restraint')"
   ]
  },
  {
   "cell_type": "markdown",
   "metadata": {},
   "source": [
    "## ambulance"
   ]
  },
  {
   "cell_type": "code",
   "execution_count": 39,
   "metadata": {},
   "outputs": [
    {
     "name": "stdout",
     "output_type": "stream",
     "text": [
      "NaN      14601\n",
      "あり        1347\n",
      "なし         112\n",
      "ヘリ          87\n",
      "不明          23\n",
      "民間救急車        1\n",
      "Name: ambulance, dtype: int64\n"
     ]
    },
    {
     "data": {
      "text/plain": [
       "<matplotlib.axes._subplots.AxesSubplot at 0x7fef9fd6d3d0>"
      ]
     },
     "execution_count": 39,
     "metadata": {},
     "output_type": "execute_result"
    },
    {
     "data": {
      "image/png": "[encoded data removed]",
      "text/plain": [
       "<Figure size 432x288 with 1 Axes>"
      ]
     },
     "metadata": {
      "needs_background": "light"
     },
     "output_type": "display_data"
    }
   ],
   "source": [
    "print(df.ambulance.value_counts(dropna=False))\n",
    "df.ambulance.value_counts(dropna=False).plot.bar()"
   ]
  },
  {
   "cell_type": "code",
   "execution_count": 40,
   "metadata": {},
   "outputs": [],
   "source": [
    "# to En\n",
    "df.loc[df.ambulance == 'あり', 'ambulance'] = 'Yes'\n",
    "df.loc[df.ambulance == 'なし', 'ambulance'] = 'No'\n",
    "df.loc[df.ambulance == 'ヘリ', 'ambulance'] = 'helicopter'\n",
    "df.loc[df.ambulance == '不明', 'ambulance'] = 'unknown'\n",
    "df.loc[df.ambulance == '民間救急車', 'ambulance'] = 'Private_ambulance'\n"
   ]
  },
  {
   "cell_type": "code",
   "execution_count": 41,
   "metadata": {},
   "outputs": [],
   "source": [
    "# add dummy variable\n",
    "df_dummy = pd.get_dummies(df.ambulance, prefix='ambulance', dummy_na=True)\n",
    "df = pd.concat([df, df_dummy], axis=1)"
   ]
  },
  {
   "cell_type": "code",
   "execution_count": 42,
   "metadata": {},
   "outputs": [],
   "source": [
    "cols_category.extend(df_dummy.columns.values)\n",
    "cols_numeric.remove('ambulance')"
   ]
  },
  {
   "cell_type": "markdown",
   "metadata": {},
   "source": [
    "## introduction"
   ]
  },
  {
   "cell_type": "code",
   "execution_count": 43,
   "metadata": {},
   "outputs": [
    {
     "name": "stdout",
     "output_type": "stream",
     "text": [
      "NaN           14611\n",
      "なし              862\n",
      "あり              685\n",
      "不明                9\n",
      "夜間救急診療所           1\n",
      "市立青葉病院            1\n",
      "君津中央病院            1\n",
      "みつわ台総合病院より        1\n",
      "Name: introduction, dtype: int64\n"
     ]
    },
    {
     "data": {
      "text/plain": [
       "<matplotlib.axes._subplots.AxesSubplot at 0x7fef9ff4f7d0>"
      ]
     },
     "execution_count": 43,
     "metadata": {},
     "output_type": "execute_result"
    },
    {
     "data": {
      "image/png": "[encoded data removed]",
      "text/plain": [
       "<Figure size 432x288 with 1 Axes>"
      ]
     },
     "metadata": {
      "needs_background": "light"
     },
     "output_type": "display_data"
    }
   ],
   "source": [
    "print(df.introduction.value_counts(dropna=False))\n",
    "df.introduction.value_counts(dropna=False).plot.bar()"
   ]
  },
  {
   "cell_type": "code",
   "execution_count": 44,
   "metadata": {},
   "outputs": [],
   "source": [
    "# to En\n",
    "df.loc[df.introduction == 'あり', 'introduction'] = 'Yes'\n",
    "df.loc[df.introduction == 'なし', 'introduction'] = 'No'\n",
    "df.loc[df.introduction == '不明', 'introduction'] = 'unknown'\n"
   ]
  },
  {
   "cell_type": "code",
   "execution_count": 45,
   "metadata": {},
   "outputs": [],
   "source": [
    "# hospital name -> Yes\n",
    "df.loc[df.introduction == '市立青葉病院', ['introduction']] = 'Yes'\n",
    "df.loc[df.introduction == '君津中央病院', ['introduction']] = 'Yes'\n",
    "df.loc[df.introduction == 'みつわ台総合病院より', ['introduction']] = 'Yes'\n",
    "df.loc[df.introduction == '夜間救急診療所', ['introduction']] = 'Yes'\n",
    "\n",
    "# add dummy variable\n",
    "df_dummy = pd.get_dummies(df.introduction, prefix='introduction', dummy_na=True)\n",
    "df = pd.concat([df, df_dummy], axis=1)"
   ]
  },
  {
   "cell_type": "code",
   "execution_count": 46,
   "metadata": {},
   "outputs": [],
   "source": [
    "cols_category.extend(df_dummy.columns.values)\n",
    "cols_numeric.remove('introduction')"
   ]
  },
  {
   "cell_type": "markdown",
   "metadata": {},
   "source": [
    "## MET"
   ]
  },
  {
   "cell_type": "code",
   "execution_count": 47,
   "metadata": {},
   "outputs": [
    {
     "name": "stdout",
     "output_type": "stream",
     "text": [
      "NaN    9605\n",
      "無      6304\n",
      "有       262\n",
      "Name: MET, dtype: int64\n"
     ]
    },
    {
     "data": {
      "text/plain": [
       "<matplotlib.axes._subplots.AxesSubplot at 0x7fefa2ece650>"
      ]
     },
     "execution_count": 47,
     "metadata": {},
     "output_type": "execute_result"
    },
    {
     "data": {
      "image/png": "[encoded data removed]",
      "text/plain": [
       "<Figure size 432x288 with 1 Axes>"
      ]
     },
     "metadata": {
      "needs_background": "light"
     },
     "output_type": "display_data"
    }
   ],
   "source": [
    "print(df.MET.value_counts(dropna=False))\n",
    "df.MET.value_counts(dropna=False).plot.bar()"
   ]
  },
  {
   "cell_type": "code",
   "execution_count": 48,
   "metadata": {},
   "outputs": [],
   "source": [
    "# to En\n",
    "df.loc[df.MET == '有', 'MET'] = 'Yes'\n",
    "df.loc[df.MET == '無', 'MET'] = 'No'\n"
   ]
  },
  {
   "cell_type": "code",
   "execution_count": 49,
   "metadata": {},
   "outputs": [],
   "source": [
    "# add dummy variable\n",
    "df_dummy = pd.get_dummies(df.MET, prefix='MET', dummy_na=True)\n",
    "df = pd.concat([df, df_dummy], axis=1)"
   ]
  },
  {
   "cell_type": "code",
   "execution_count": 50,
   "metadata": {},
   "outputs": [],
   "source": [
    "cols_category.extend(df_dummy.columns.values)\n",
    "cols_numeric.remove('MET')"
   ]
  },
  {
   "cell_type": "markdown",
   "metadata": {},
   "source": [
    "## Ent_route"
   ]
  },
  {
   "cell_type": "code",
   "execution_count": 51,
   "metadata": {},
   "outputs": [
    {
     "name": "stdout",
     "output_type": "stream",
     "text": [
      "NaN               7746\n",
      "C:手術後の予定入室        3538\n",
      "A:外来から直接入室        2794\n",
      "B-1:病室からの緊急入室      903\n",
      "D:他院からの紹介          732\n",
      "B-2:手術室からの緊急入室     352\n",
      "E:外来から病棟入院         106\n",
      "Name: Ent_route, dtype: int64\n"
     ]
    },
    {
     "data": {
      "text/plain": [
       "<matplotlib.axes._subplots.AxesSubplot at 0x7fefa34e5850>"
      ]
     },
     "execution_count": 51,
     "metadata": {},
     "output_type": "execute_result"
    },
    {
     "data": {
      "image/png": "[encoded data removed]",
      "text/plain": [
       "<Figure size 432x288 with 1 Axes>"
      ]
     },
     "metadata": {
      "needs_background": "light"
     },
     "output_type": "display_data"
    }
   ],
   "source": [
    "print(df.Ent_route.value_counts(dropna=False))\n",
    "df.Ent_route.value_counts(dropna=False).plot.bar()"
   ]
  },
  {
   "cell_type": "code",
   "execution_count": 52,
   "metadata": {},
   "outputs": [],
   "source": [
    "# code + name -> code\n",
    "df.loc[df.Ent_route == 'A:外来から直接入室', ['Ent_route']] = 'A'\n",
    "df.loc[df.Ent_route == 'B-1:病室からの緊急入室', ['Ent_route']] = 'B1'\n",
    "df.loc[df.Ent_route == 'B-2:手術室からの緊急入室', ['Ent_route']] = 'B2'\n",
    "df.loc[df.Ent_route == 'C:手術後の予定入室', ['Ent_route']] = 'C'\n",
    "df.loc[df.Ent_route == 'D:他院からの紹介', ['Ent_route']] = 'D'\n",
    "df.loc[df.Ent_route == 'E:外来から病棟入院', ['Ent_route']] = 'E'\n",
    "\n",
    "# add dummy variable\n",
    "df_dummy = pd.get_dummies(df.Ent_route, prefix='Ent_route', dummy_na=True)\n",
    "df = pd.concat([df, df_dummy], axis=1)"
   ]
  },
  {
   "cell_type": "code",
   "execution_count": 53,
   "metadata": {},
   "outputs": [],
   "source": [
    "cols_category.extend(df_dummy.columns.values)\n",
    "cols_numeric.remove('Ent_route')"
   ]
  },
  {
   "cell_type": "markdown",
   "metadata": {},
   "source": [
    "## AIDS"
   ]
  },
  {
   "cell_type": "code",
   "execution_count": 54,
   "metadata": {},
   "outputs": [
    {
     "name": "stdout",
     "output_type": "stream",
     "text": [
      "No     16164\n",
      "Yes        7\n",
      "Name: AIDS, dtype: int64\n"
     ]
    },
    {
     "data": {
      "text/plain": [
       "<matplotlib.axes._subplots.AxesSubplot at 0x7fefa35c4410>"
      ]
     },
     "execution_count": 54,
     "metadata": {},
     "output_type": "execute_result"
    },
    {
     "data": {
      "image/png": "[encoded data removed]",
      "text/plain": [
       "<Figure size 432x288 with 1 Axes>"
      ]
     },
     "metadata": {
      "needs_background": "light"
     },
     "output_type": "display_data"
    }
   ],
   "source": [
    "print(df.AIDS.value_counts(dropna=False))\n",
    "df.AIDS.value_counts(dropna=False).plot.bar()"
   ]
  },
  {
   "cell_type": "code",
   "execution_count": 55,
   "metadata": {},
   "outputs": [],
   "source": [
    "# add dummy variable\n",
    "df_dummy = pd.get_dummies(df.AIDS, prefix='AIDS', dummy_na=False)\n",
    "df = pd.concat([df, df_dummy], axis=1)"
   ]
  },
  {
   "cell_type": "code",
   "execution_count": 56,
   "metadata": {},
   "outputs": [],
   "source": [
    "cols_category.extend(df_dummy.columns.values)\n",
    "cols_numeric.remove('AIDS')"
   ]
  },
  {
   "cell_type": "markdown",
   "metadata": {},
   "source": [
    "## AML_MM"
   ]
  },
  {
   "cell_type": "code",
   "execution_count": 57,
   "metadata": {},
   "outputs": [
    {
     "name": "stdout",
     "output_type": "stream",
     "text": [
      "No     16132\n",
      "Yes       39\n",
      "Name: AML_MM, dtype: int64\n"
     ]
    },
    {
     "data": {
      "text/plain": [
       "<matplotlib.axes._subplots.AxesSubplot at 0x7fefa36d7790>"
      ]
     },
     "execution_count": 57,
     "metadata": {},
     "output_type": "execute_result"
    },
    {
     "data": {
      "image/png": "[encoded data removed]",
      "text/plain": [
       "<Figure size 432x288 with 1 Axes>"
      ]
     },
     "metadata": {
      "needs_background": "light"
     },
     "output_type": "display_data"
    }
   ],
   "source": [
    "print(df.AML_MM.value_counts(dropna=False))\n",
    "df.AML_MM.value_counts(dropna=False).plot.bar()"
   ]
  },
  {
   "cell_type": "code",
   "execution_count": 58,
   "metadata": {},
   "outputs": [],
   "source": [
    "# add dummy variable\n",
    "df_dummy = pd.get_dummies(df.AML_MM, prefix='AML_MM', dummy_na=False)\n",
    "df = pd.concat([df, df_dummy], axis=1)"
   ]
  },
  {
   "cell_type": "code",
   "execution_count": 59,
   "metadata": {},
   "outputs": [],
   "source": [
    "cols_category.extend(df_dummy.columns.values)\n",
    "cols_numeric.remove('AML_MM')"
   ]
  },
  {
   "cell_type": "markdown",
   "metadata": {},
   "source": [
    "## Heart_failure"
   ]
  },
  {
   "cell_type": "code",
   "execution_count": 60,
   "metadata": {},
   "outputs": [
    {
     "name": "stdout",
     "output_type": "stream",
     "text": [
      "No     15581\n",
      "Yes      590\n",
      "Name: Heart_failure, dtype: int64\n"
     ]
    },
    {
     "data": {
      "text/plain": [
       "<matplotlib.axes._subplots.AxesSubplot at 0x7fefa3a2dad0>"
      ]
     },
     "execution_count": 60,
     "metadata": {},
     "output_type": "execute_result"
    },
    {
     "data": {
      "image/png": "[encoded data removed]",
      "text/plain": [
       "<Figure size 432x288 with 1 Axes>"
      ]
     },
     "metadata": {
      "needs_background": "light"
     },
     "output_type": "display_data"
    }
   ],
   "source": [
    "print(df.Heart_failure.value_counts(dropna=False))\n",
    "df.Heart_failure.value_counts(dropna=False).plot.bar()"
   ]
  },
  {
   "cell_type": "code",
   "execution_count": 61,
   "metadata": {},
   "outputs": [],
   "source": [
    "# add dummy variable\n",
    "df_dummy = pd.get_dummies(df.Heart_failure, prefix='Heart_failure', dummy_na=False)\n",
    "df = pd.concat([df, df_dummy], axis=1)"
   ]
  },
  {
   "cell_type": "code",
   "execution_count": 62,
   "metadata": {},
   "outputs": [],
   "source": [
    "cols_category.extend(df_dummy.columns.values)\n",
    "cols_numeric.remove('Heart_failure')"
   ]
  },
  {
   "cell_type": "markdown",
   "metadata": {},
   "source": [
    "## Lymphoma"
   ]
  },
  {
   "cell_type": "code",
   "execution_count": 63,
   "metadata": {},
   "outputs": [
    {
     "name": "stdout",
     "output_type": "stream",
     "text": [
      "No     16138\n",
      "Yes       33\n",
      "Name: Lymphoma, dtype: int64\n"
     ]
    },
    {
     "data": {
      "text/plain": [
       "<matplotlib.axes._subplots.AxesSubplot at 0x7fefa3b04710>"
      ]
     },
     "execution_count": 63,
     "metadata": {},
     "output_type": "execute_result"
    },
    {
     "data": {
      "image/png": "[encoded data removed]",
      "text/plain": [
       "<Figure size 432x288 with 1 Axes>"
      ]
     },
     "metadata": {
      "needs_background": "light"
     },
     "output_type": "display_data"
    }
   ],
   "source": [
    "print(df.Lymphoma.value_counts(dropna=False))\n",
    "df.Lymphoma.value_counts(dropna=False).plot.bar()"
   ]
  },
  {
   "cell_type": "code",
   "execution_count": 64,
   "metadata": {},
   "outputs": [],
   "source": [
    "# add dummy variable\n",
    "df_dummy = pd.get_dummies(df.Lymphoma, prefix='Lymphoma', dummy_na=False)\n",
    "df = pd.concat([df, df_dummy], axis=1)"
   ]
  },
  {
   "cell_type": "code",
   "execution_count": 65,
   "metadata": {},
   "outputs": [],
   "source": [
    "cols_category.extend(df_dummy.columns.values)\n",
    "cols_numeric.remove('Lymphoma')"
   ]
  },
  {
   "cell_type": "markdown",
   "metadata": {},
   "source": [
    "## Respiratory_failure"
   ]
  },
  {
   "cell_type": "code",
   "execution_count": 66,
   "metadata": {},
   "outputs": [
    {
     "name": "stdout",
     "output_type": "stream",
     "text": [
      "No     15477\n",
      "Yes      694\n",
      "Name: Respiratory_failure, dtype: int64\n"
     ]
    },
    {
     "data": {
      "text/plain": [
       "<matplotlib.axes._subplots.AxesSubplot at 0x7fefa3ccb490>"
      ]
     },
     "execution_count": 66,
     "metadata": {},
     "output_type": "execute_result"
    },
    {
     "data": {
      "image/png": "[encoded data removed]",
      "text/plain": [
       "<Figure size 432x288 with 1 Axes>"
      ]
     },
     "metadata": {
      "needs_background": "light"
     },
     "output_type": "display_data"
    }
   ],
   "source": [
    "print(df.Respiratory_failure.value_counts(dropna=False))\n",
    "df.Respiratory_failure.value_counts(dropna=False).plot.bar()"
   ]
  },
  {
   "cell_type": "code",
   "execution_count": 67,
   "metadata": {},
   "outputs": [],
   "source": [
    "# add dummy variable\n",
    "df_dummy = pd.get_dummies(df.Respiratory_failure, prefix='Respiratory_failure', dummy_na=False)\n",
    "df = pd.concat([df, df_dummy], axis=1)"
   ]
  },
  {
   "cell_type": "code",
   "execution_count": 68,
   "metadata": {},
   "outputs": [],
   "source": [
    "cols_category.extend(df_dummy.columns.values)\n",
    "cols_numeric.remove('Respiratory_failure')"
   ]
  },
  {
   "cell_type": "markdown",
   "metadata": {},
   "source": [
    "## Metastasis"
   ]
  },
  {
   "cell_type": "code",
   "execution_count": 69,
   "metadata": {},
   "outputs": [
    {
     "name": "stdout",
     "output_type": "stream",
     "text": [
      "No     16042\n",
      "Yes      129\n",
      "Name: Metastasis, dtype: int64\n"
     ]
    },
    {
     "data": {
      "text/plain": [
       "<matplotlib.axes._subplots.AxesSubplot at 0x7fefa3b11ed0>"
      ]
     },
     "execution_count": 69,
     "metadata": {},
     "output_type": "execute_result"
    },
    {
     "data": {
      "image/png": "[encoded data removed]",
      "text/plain": [
       "<Figure size 432x288 with 1 Axes>"
      ]
     },
     "metadata": {
      "needs_background": "light"
     },
     "output_type": "display_data"
    }
   ],
   "source": [
    "print(df.Metastasis.value_counts(dropna=False))\n",
    "df.Metastasis.value_counts(dropna=False).plot.bar()"
   ]
  },
  {
   "cell_type": "code",
   "execution_count": 70,
   "metadata": {},
   "outputs": [],
   "source": [
    "# add dummy variable\n",
    "df_dummy = pd.get_dummies(df.Metastasis, prefix='Metastasis', dummy_na=False)\n",
    "df = pd.concat([df, df_dummy], axis=1)"
   ]
  },
  {
   "cell_type": "code",
   "execution_count": 71,
   "metadata": {},
   "outputs": [],
   "source": [
    "cols_category.extend(df_dummy.columns.values)\n",
    "cols_numeric.remove('Metastasis')"
   ]
  },
  {
   "cell_type": "markdown",
   "metadata": {},
   "source": [
    "## Liver_failure"
   ]
  },
  {
   "cell_type": "code",
   "execution_count": 72,
   "metadata": {},
   "outputs": [
    {
     "name": "stdout",
     "output_type": "stream",
     "text": [
      "No     16085\n",
      "Yes       86\n",
      "Name: Liver_failure, dtype: int64\n"
     ]
    },
    {
     "data": {
      "text/plain": [
       "<matplotlib.axes._subplots.AxesSubplot at 0x7fefa43397d0>"
      ]
     },
     "execution_count": 72,
     "metadata": {},
     "output_type": "execute_result"
    },
    {
     "data": {
      "image/png": "[encoded data removed]",
      "text/plain": [
       "<Figure size 432x288 with 1 Axes>"
      ]
     },
     "metadata": {
      "needs_background": "light"
     },
     "output_type": "display_data"
    }
   ],
   "source": [
    "print(df.Liver_failure.value_counts(dropna=False))\n",
    "df.Liver_failure.value_counts(dropna=False).plot.bar()"
   ]
  },
  {
   "cell_type": "code",
   "execution_count": 73,
   "metadata": {},
   "outputs": [],
   "source": [
    "# add dummy variable\n",
    "df_dummy = pd.get_dummies(df.Liver_failure, prefix='Liver_failure', dummy_na=False)\n",
    "df = pd.concat([df, df_dummy], axis=1)"
   ]
  },
  {
   "cell_type": "code",
   "execution_count": 74,
   "metadata": {},
   "outputs": [],
   "source": [
    "cols_category.extend(df_dummy.columns.values)\n",
    "cols_numeric.remove('Liver_failure')"
   ]
  },
  {
   "cell_type": "markdown",
   "metadata": {},
   "source": [
    "## Immunosuppression"
   ]
  },
  {
   "cell_type": "code",
   "execution_count": 75,
   "metadata": {},
   "outputs": [
    {
     "name": "stdout",
     "output_type": "stream",
     "text": [
      "No     15937\n",
      "Yes      234\n",
      "Name: Immunosuppression, dtype: int64\n"
     ]
    },
    {
     "data": {
      "text/plain": [
       "<matplotlib.axes._subplots.AxesSubplot at 0x7fefa43eee90>"
      ]
     },
     "execution_count": 75,
     "metadata": {},
     "output_type": "execute_result"
    },
    {
     "data": {
      "image/png": "[encoded data removed]",
      "text/plain": [
       "<Figure size 432x288 with 1 Axes>"
      ]
     },
     "metadata": {
      "needs_background": "light"
     },
     "output_type": "display_data"
    }
   ],
   "source": [
    "print(df.Immunosuppression.value_counts(dropna=False))\n",
    "df.Immunosuppression.value_counts(dropna=False).plot.bar()"
   ]
  },
  {
   "cell_type": "code",
   "execution_count": 76,
   "metadata": {},
   "outputs": [],
   "source": [
    "# add dummy variable\n",
    "df_dummy = pd.get_dummies(df.Immunosuppression, prefix='Immunosuppression', dummy_na=False)\n",
    "df = pd.concat([df, df_dummy], axis=1)"
   ]
  },
  {
   "cell_type": "code",
   "execution_count": 77,
   "metadata": {},
   "outputs": [],
   "source": [
    "cols_category.extend(df_dummy.columns.values)\n",
    "cols_numeric.remove('Immunosuppression')"
   ]
  },
  {
   "cell_type": "markdown",
   "metadata": {},
   "source": [
    "## Cirrhosis"
   ]
  },
  {
   "cell_type": "code",
   "execution_count": 78,
   "metadata": {},
   "outputs": [
    {
     "name": "stdout",
     "output_type": "stream",
     "text": [
      "No     16119\n",
      "Yes       52\n",
      "Name: Cirrhosis, dtype: int64\n"
     ]
    },
    {
     "data": {
      "text/plain": [
       "<matplotlib.axes._subplots.AxesSubplot at 0x7fefa4855910>"
      ]
     },
     "execution_count": 78,
     "metadata": {},
     "output_type": "execute_result"
    },
    {
     "data": {
      "image/png": "[encoded data removed]",
      "text/plain": [
       "<Figure size 432x288 with 1 Axes>"
      ]
     },
     "metadata": {
      "needs_background": "light"
     },
     "output_type": "display_data"
    }
   ],
   "source": [
    "print(df.Cirrhosis.value_counts(dropna=False))\n",
    "df.Cirrhosis.value_counts(dropna=False).plot.bar()"
   ]
  },
  {
   "cell_type": "code",
   "execution_count": 79,
   "metadata": {},
   "outputs": [],
   "source": [
    "# add dummy variable\n",
    "df_dummy = pd.get_dummies(df.Cirrhosis, prefix='Cirrhosis', dummy_na=False)\n",
    "df = pd.concat([df, df_dummy], axis=1)"
   ]
  },
  {
   "cell_type": "code",
   "execution_count": 80,
   "metadata": {},
   "outputs": [],
   "source": [
    "cols_category.extend(df_dummy.columns.values)\n",
    "cols_numeric.remove('Cirrhosis')"
   ]
  },
  {
   "cell_type": "markdown",
   "metadata": {},
   "source": [
    "## Maintenance_dialysis"
   ]
  },
  {
   "cell_type": "code",
   "execution_count": 81,
   "metadata": {},
   "outputs": [
    {
     "name": "stdout",
     "output_type": "stream",
     "text": [
      "No     15990\n",
      "Yes      181\n",
      "Name: Maintenance_dialysis, dtype: int64\n"
     ]
    },
    {
     "data": {
      "text/plain": [
       "<matplotlib.axes._subplots.AxesSubplot at 0x7fefa4519f50>"
      ]
     },
     "execution_count": 81,
     "metadata": {},
     "output_type": "execute_result"
    },
    {
     "data": {
      "image/png": "[encoded data removed]",
      "text/plain": [
       "<Figure size 432x288 with 1 Axes>"
      ]
     },
     "metadata": {
      "needs_background": "light"
     },
     "output_type": "display_data"
    }
   ],
   "source": [
    "print(df.Maintenance_dialysis.value_counts(dropna=False))\n",
    "df.Maintenance_dialysis.value_counts(dropna=False).plot.bar()"
   ]
  },
  {
   "cell_type": "code",
   "execution_count": 82,
   "metadata": {},
   "outputs": [],
   "source": [
    "# add dummy variable\n",
    "df_dummy = pd.get_dummies(df.Maintenance_dialysis, prefix='Maintenance_dialysis', dummy_na=False)\n",
    "df = pd.concat([df, df_dummy], axis=1)"
   ]
  },
  {
   "cell_type": "code",
   "execution_count": 83,
   "metadata": {},
   "outputs": [],
   "source": [
    "cols_category.extend(df_dummy.columns.values)\n",
    "cols_numeric.remove('Maintenance_dialysis')"
   ]
  },
  {
   "cell_type": "markdown",
   "metadata": {},
   "source": [
    "## Cardiac_arrest_resuscitation"
   ]
  },
  {
   "cell_type": "code",
   "execution_count": 84,
   "metadata": {},
   "outputs": [
    {
     "name": "stdout",
     "output_type": "stream",
     "text": [
      "No     15984\n",
      "Yes      187\n",
      "Name: Cardiac_arrest_resuscitation, dtype: int64\n"
     ]
    },
    {
     "data": {
      "text/plain": [
       "<matplotlib.axes._subplots.AxesSubplot at 0x7fefa4923390>"
      ]
     },
     "execution_count": 84,
     "metadata": {},
     "output_type": "execute_result"
    },
    {
     "data": {
      "image/png": "[encoded data removed]",
      "text/plain": [
       "<Figure size 432x288 with 1 Axes>"
      ]
     },
     "metadata": {
      "needs_background": "light"
     },
     "output_type": "display_data"
    }
   ],
   "source": [
    "print(df.Cardiac_arrest_resuscitation.value_counts(dropna=False))\n",
    "df.Cardiac_arrest_resuscitation.value_counts(dropna=False).plot.bar()"
   ]
  },
  {
   "cell_type": "code",
   "execution_count": 85,
   "metadata": {},
   "outputs": [],
   "source": [
    "# add dummy variable\n",
    "df_dummy = pd.get_dummies(df.Cardiac_arrest_resuscitation, prefix='Cardiac_arrest_resuscitation', dummy_na=False)\n",
    "df = pd.concat([df, df_dummy], axis=1)"
   ]
  },
  {
   "cell_type": "code",
   "execution_count": 86,
   "metadata": {},
   "outputs": [],
   "source": [
    "cols_category.extend(df_dummy.columns.values)\n",
    "cols_numeric.remove('Cardiac_arrest_resuscitation')"
   ]
  },
  {
   "cell_type": "markdown",
   "metadata": {},
   "source": [
    "## FIM_score"
   ]
  },
  {
   "cell_type": "code",
   "execution_count": 87,
   "metadata": {},
   "outputs": [
    {
     "name": "stdout",
     "output_type": "stream",
     "text": [
      "No     10182\n",
      "0       5988\n",
      "119        1\n",
      "Name: FIM_score, dtype: int64\n"
     ]
    },
    {
     "data": {
      "text/plain": [
       "<matplotlib.axes._subplots.AxesSubplot at 0x7fefa4a00a50>"
      ]
     },
     "execution_count": 87,
     "metadata": {},
     "output_type": "execute_result"
    },
    {
     "data": {
      "image/png": "[encoded data removed]",
      "text/plain": [
       "<Figure size 432x288 with 1 Axes>"
      ]
     },
     "metadata": {
      "needs_background": "light"
     },
     "output_type": "display_data"
    }
   ],
   "source": [
    "print(df.FIM_score.value_counts(dropna=False))\n",
    "df.FIM_score.value_counts(dropna=False).plot.bar()"
   ]
  },
  {
   "cell_type": "code",
   "execution_count": 88,
   "metadata": {},
   "outputs": [],
   "source": [
    "# add dummy variable\n",
    "df_dummy = pd.get_dummies(df.FIM_score, prefix='FIM_score', dummy_na=False)\n",
    "df = pd.concat([df, df_dummy], axis=1)"
   ]
  },
  {
   "cell_type": "code",
   "execution_count": 89,
   "metadata": {},
   "outputs": [],
   "source": [
    "cols_category.extend(df_dummy.columns.values)\n",
    "cols_numeric.remove('FIM_score')"
   ]
  },
  {
   "cell_type": "markdown",
   "metadata": {},
   "source": [
    "## outcome1"
   ]
  },
  {
   "cell_type": "code",
   "execution_count": 90,
   "metadata": {},
   "outputs": [
    {
     "name": "stdout",
     "output_type": "stream",
     "text": [
      "転棟         12350\n",
      "NaN         1430\n",
      "退院           933\n",
      "死亡(剖検無）      736\n",
      "転院           585\n",
      "死亡(剖検有)      137\n",
      "Name: outcome1, dtype: int64\n"
     ]
    },
    {
     "data": {
      "text/plain": [
       "<matplotlib.axes._subplots.AxesSubplot at 0x7fefa4c25710>"
      ]
     },
     "execution_count": 90,
     "metadata": {},
     "output_type": "execute_result"
    },
    {
     "data": {
      "image/png": "[encoded data removed]",
      "text/plain": [
       "<Figure size 432x288 with 1 Axes>"
      ]
     },
     "metadata": {
      "needs_background": "light"
     },
     "output_type": "display_data"
    }
   ],
   "source": [
    "print(df.outcome1.value_counts(dropna=False))\n",
    "df.outcome1.value_counts(dropna=False).plot.bar()"
   ]
  },
  {
   "cell_type": "code",
   "execution_count": 91,
   "metadata": {},
   "outputs": [],
   "source": [
    "# to En\n",
    "df.loc[df.outcome1 == '転棟', 'outcome1'] = 'Transfer building'\n",
    "df.loc[df.outcome1 == '退院', 'outcome1'] = 'Discharge'\n",
    "df.loc[df.outcome1 == '死亡(剖検無）', 'outcome1'] = 'Dead (no autopsy)'\n",
    "df.loc[df.outcome1 == '転院', 'outcome1'] = 'Transfer'\n",
    "df.loc[df.outcome1 == '死亡(剖検有)', 'outcome1'] = 'Dead (with autopsy)'\n"
   ]
  },
  {
   "cell_type": "code",
   "execution_count": 92,
   "metadata": {},
   "outputs": [],
   "source": [
    "# add dummy variable\n",
    "df_dummy = pd.get_dummies(df.outcome1, prefix='outcome1', dummy_na=True)\n",
    "df = pd.concat([df, df_dummy], axis=1)"
   ]
  },
  {
   "cell_type": "code",
   "execution_count": 93,
   "metadata": {},
   "outputs": [],
   "source": [
    "cols_category.extend(df_dummy.columns.values)\n",
    "cols_numeric.remove('outcome1')"
   ]
  },
  {
   "cell_type": "markdown",
   "metadata": {},
   "source": [
    "## outcome2"
   ]
  },
  {
   "cell_type": "code",
   "execution_count": 94,
   "metadata": {},
   "outputs": [
    {
     "name": "stdout",
     "output_type": "stream",
     "text": [
      "軽快     9253\n",
      "NaN    5061\n",
      "不変     1036\n",
      "死亡      621\n",
      "治癒      124\n",
      "転医       45\n",
      "悪化       27\n",
      "中止        4\n",
      "Name: outcome2, dtype: int64\n"
     ]
    },
    {
     "data": {
      "text/plain": [
       "<matplotlib.axes._subplots.AxesSubplot at 0x7fefa4d0e9d0>"
      ]
     },
     "execution_count": 94,
     "metadata": {},
     "output_type": "execute_result"
    },
    {
     "data": {
      "image/png": "[encoded data removed]",
      "text/plain": [
       "<Figure size 432x288 with 1 Axes>"
      ]
     },
     "metadata": {
      "needs_background": "light"
     },
     "output_type": "display_data"
    }
   ],
   "source": [
    "print(df.outcome2.value_counts(dropna=False))\n",
    "df.outcome2.value_counts(dropna=False).plot.bar()"
   ]
  },
  {
   "cell_type": "code",
   "execution_count": 95,
   "metadata": {},
   "outputs": [],
   "source": [
    "# to En\n",
    "df.loc[df.outcome2 == '軽快', 'outcome2'] = 'Improved'\n",
    "df.loc[df.outcome2 == '不変', 'outcome2'] = 'Did not change'\n",
    "df.loc[df.outcome2 == '死亡', 'outcome2'] = 'Dead'\n",
    "df.loc[df.outcome2 == '治癒', 'outcome2'] = 'Healing'\n",
    "df.loc[df.outcome2 == '転医', 'outcome2'] = 'Transfer doctor'\n",
    "df.loc[df.outcome2 == '悪化', 'outcome2'] = 'Deterioration'\n",
    "df.loc[df.outcome2 == '中止', 'outcome2'] = 'Cancel'\n"
   ]
  },
  {
   "cell_type": "code",
   "execution_count": 96,
   "metadata": {},
   "outputs": [],
   "source": [
    "# add dummy variable\n",
    "df_dummy = pd.get_dummies(df.outcome2, prefix='outcome2', dummy_na=True)\n",
    "df = pd.concat([df, df_dummy], axis=1)"
   ]
  },
  {
   "cell_type": "code",
   "execution_count": 97,
   "metadata": {},
   "outputs": [],
   "source": [
    "cols_category.extend(df_dummy.columns.values)\n",
    "cols_numeric.remove('outcome2')"
   ]
  },
  {
   "cell_type": "markdown",
   "metadata": {},
   "source": [
    "## Severity_of_sepsis"
   ]
  },
  {
   "cell_type": "code",
   "execution_count": 98,
   "metadata": {},
   "outputs": [
    {
     "name": "stdout",
     "output_type": "stream",
     "text": [
      "NaN           10886\n",
      "0 敗血症なし        3764\n",
      "2 重症敗血症         555\n",
      "1 敗血症           488\n",
      "3 敗血症性ショック      478\n",
      "Name: Severity_of_sepsis, dtype: int64\n"
     ]
    },
    {
     "data": {
      "text/plain": [
       "<matplotlib.axes._subplots.AxesSubplot at 0x7fefb229a410>"
      ]
     },
     "execution_count": 98,
     "metadata": {},
     "output_type": "execute_result"
    },
    {
     "data": {
      "image/png": "[encoded data removed]",
      "text/plain": [
       "<Figure size 432x288 with 1 Axes>"
      ]
     },
     "metadata": {
      "needs_background": "light"
     },
     "output_type": "display_data"
    }
   ],
   "source": [
    "print(df.Severity_of_sepsis.value_counts(dropna=False))\n",
    "df.Severity_of_sepsis.value_counts(dropna=False).plot.bar()"
   ]
  },
  {
   "cell_type": "code",
   "execution_count": 99,
   "metadata": {},
   "outputs": [],
   "source": [
    "# to En\n",
    "df.loc[df.Severity_of_sepsis == '0 敗血症なし', 'Severity_of_sepsis'] = '0 No sepsis'\n",
    "df.loc[df.Severity_of_sepsis == '1 敗血症', 'Severity_of_sepsis'] = '1 Sepsis'\n",
    "df.loc[df.Severity_of_sepsis == '2 重症敗血症', 'Severity_of_sepsis'] = '2 Severe sepsis'\n",
    "df.loc[df.Severity_of_sepsis == '3 敗血症性ショック', 'Severity_of_sepsis'] = '3 Septic shock'\n"
   ]
  },
  {
   "cell_type": "code",
   "execution_count": 100,
   "metadata": {},
   "outputs": [],
   "source": [
    "# add dummy variable\n",
    "df_dummy = pd.get_dummies(df.outcome2, prefix='Severity_of_sepsis', dummy_na=True)\n",
    "df = pd.concat([df, df_dummy], axis=1)"
   ]
  },
  {
   "cell_type": "code",
   "execution_count": 101,
   "metadata": {},
   "outputs": [],
   "source": [
    "cols_category.extend(df_dummy.columns.values)\n",
    "cols_numeric.remove('Severity_of_sepsis')"
   ]
  },
  {
   "cell_type": "markdown",
   "metadata": {},
   "source": [
    "## APTT"
   ]
  },
  {
   "cell_type": "code",
   "execution_count": 102,
   "metadata": {},
   "outputs": [],
   "source": [
    "# for cols_numeric\n",
    "df['APTT1'] = df.APTT.str.split('s', expand=True)[0]\n",
    "df['APTT2'] = df.APTT.str.split('s', expand=True)[1]\n",
    "cols_numeric.append('APTT1')\n",
    "cols_numeric.append('APTT2')\n",
    "cols_numeric.remove('APTT')"
   ]
  },
  {
   "cell_type": "markdown",
   "metadata": {},
   "source": [
    "## ANISO"
   ]
  },
  {
   "cell_type": "code",
   "execution_count": 103,
   "metadata": {},
   "outputs": [
    {
     "name": "stdout",
     "output_type": "stream",
     "text": [
      "NaN      14343\n",
      "1+        1261\n",
      "+-         505\n",
      "0           25\n",
      "1           19\n",
      "ｷｬﾝｾﾙ       16\n",
      "10           1\n",
      "2+           1\n",
      "Name: ANISO, dtype: int64\n"
     ]
    }
   ],
   "source": [
    "print(df.ANISO.value_counts(dropna=False))\n",
    "\n",
    "# add dummy variable\n",
    "df = pd.concat([df, pd.get_dummies(df.ANISO, prefix='ANISO', dummy_na=True)], axis=1)"
   ]
  },
  {
   "cell_type": "markdown",
   "metadata": {},
   "source": [
    "## request_to_clinical_laboratory"
   ]
  },
  {
   "cell_type": "code",
   "execution_count": 104,
   "metadata": {},
   "outputs": [],
   "source": [
    "# cols_category.extend(df_dummy.columns.values)\n",
    "cols_numeric.remove('request_to_clinical_laboratory')"
   ]
  },
  {
   "cell_type": "markdown",
   "metadata": {},
   "source": [
    "## measurement_category"
   ]
  },
  {
   "cell_type": "code",
   "execution_count": 105,
   "metadata": {},
   "outputs": [],
   "source": [
    "# do not use measurement_category\n",
    "df.drop('measurement_category', axis=1, inplace=True)\n",
    "cols_numeric.remove('measurement_category')"
   ]
  },
  {
   "cell_type": "markdown",
   "metadata": {},
   "source": [
    "## axillary_temperature"
   ]
  },
  {
   "cell_type": "code",
   "execution_count": 106,
   "metadata": {},
   "outputs": [],
   "source": [
    "#  correcting values\n",
    "df.loc[df.axillary_temperature == 382.0, ['axillary_temperature']] = 38.2\n",
    "df.loc[df.axillary_temperature == 336.5, ['axillary_temperature']] = 36.5\n",
    "df.loc[df.axillary_temperature == 94.0, ['axillary_temperature']] = 39.4\n",
    "df.loc[df.axillary_temperature == 3.0, ['axillary_temperature']] = np.nan"
   ]
  },
  {
   "cell_type": "markdown",
   "metadata": {},
   "source": [
    "## Bed"
   ]
  },
  {
   "cell_type": "code",
   "execution_count": 107,
   "metadata": {},
   "outputs": [],
   "source": [
    "cols_bed = []\n",
    "for col in df.columns:\n",
    "    if col.startswith('bed_'):\n",
    "        cols_bed.append(col)\n",
    "        cols_numeric.remove(col)"
   ]
  },
  {
   "cell_type": "markdown",
   "metadata": {},
   "source": [
    "# Write File"
   ]
  },
  {
   "cell_type": "code",
   "execution_count": 108,
   "metadata": {},
   "outputs": [],
   "source": [
    "df_category = df.loc[:, cols_category]\n",
    "df_numeric = df.loc[:, cols_numeric]\n",
    "df_bed = df.loc[:, cols_bed]\n",
    "\n",
    "# change index to pID\n",
    "index_cols = [df.pID, df.Ent_datetime]\n",
    "df_category.index = index_cols\n",
    "df_numeric.index = index_cols\n",
    "df_bed.index = index_cols\n",
    "\n",
    "# output csv\n",
    "df_category.to_csv('../../../data/patient/patient_info_summarized_category4_{}.txt'.format(HOUR), sep='\\t')\n",
    "df_numeric.to_csv('../../../data/patient/patient_info_summarized_numeric4_{}.txt'.format(HOUR), sep='\\t')\n",
    "df_bed.to_csv('../../../data/patient/patient_info_summarized_bed4_{}.txt'.format(HOUR), sep='\\t')\n",
    "# df_category.drop_duplicates().to_csv('../../../data/patient/patient_info_summarized_category.txt', sep='\\t')\n",
    "# df_numeric.drop_duplicates().to_csv('../../../data/patient/patient_info_summarized_numeric.txt', sep='\\t')"
   ]
  },
  {
   "cell_type": "code",
   "execution_count": 109,
   "metadata": {},
   "outputs": [
    {
     "data": {
      "text/html": [
       "<div>\n",
       "<style scoped>\n",
       "    .dataframe tbody tr th:only-of-type {\n",
       "        vertical-align: middle;\n",
       "    }\n",
       "\n",
       "    .dataframe tbody tr th {\n",
       "        vertical-align: top;\n",
       "    }\n",
       "\n",
       "    .dataframe thead th {\n",
       "        text-align: right;\n",
       "    }\n",
       "</style>\n",
       "<table border=\"1\" class=\"dataframe\">\n",
       "  <thead>\n",
       "    <tr style=\"text-align: right;\">\n",
       "      <th></th>\n",
       "      <th></th>\n",
       "      <th>Age</th>\n",
       "      <th>height</th>\n",
       "      <th>weight</th>\n",
       "      <th>days_of_stay</th>\n",
       "      <th>Accute_DIC</th>\n",
       "      <th>SOFA_score</th>\n",
       "      <th>apache2_score</th>\n",
       "      <th>apache2_est_mortality</th>\n",
       "      <th>SIRS_score</th>\n",
       "      <th>GOT</th>\n",
       "      <th>...</th>\n",
       "      <th>SVV(Vigileo)</th>\n",
       "      <th>rSO2-1(INVOS)</th>\n",
       "      <th>rSO2-2(INVOS)</th>\n",
       "      <th>rSO2-3(INVOS)</th>\n",
       "      <th>rSO2-4(INVOS)</th>\n",
       "      <th>TBlood</th>\n",
       "      <th>SVV</th>\n",
       "      <th>ScvO2</th>\n",
       "      <th>APTT1</th>\n",
       "      <th>APTT2</th>\n",
       "    </tr>\n",
       "    <tr>\n",
       "      <th>pID</th>\n",
       "      <th>Ent_datetime</th>\n",
       "      <th></th>\n",
       "      <th></th>\n",
       "      <th></th>\n",
       "      <th></th>\n",
       "      <th></th>\n",
       "      <th></th>\n",
       "      <th></th>\n",
       "      <th></th>\n",
       "      <th></th>\n",
       "      <th></th>\n",
       "      <th></th>\n",
       "      <th></th>\n",
       "      <th></th>\n",
       "      <th></th>\n",
       "      <th></th>\n",
       "      <th></th>\n",
       "      <th></th>\n",
       "      <th></th>\n",
       "      <th></th>\n",
       "      <th></th>\n",
       "      <th></th>\n",
       "    </tr>\n",
       "  </thead>\n",
       "  <tbody>\n",
       "    <tr>\n",
       "      <th>nOWzDMmn</th>\n",
       "      <th>2011-04-22 13:35</th>\n",
       "      <td>79.0</td>\n",
       "      <td>145.0</td>\n",
       "      <td>38.3</td>\n",
       "      <td>0.0</td>\n",
       "      <td>No</td>\n",
       "      <td>No</td>\n",
       "      <td>No</td>\n",
       "      <td>No</td>\n",
       "      <td>No</td>\n",
       "      <td>19</td>\n",
       "      <td>...</td>\n",
       "      <td>NaN</td>\n",
       "      <td>NaN</td>\n",
       "      <td>NaN</td>\n",
       "      <td>NaN</td>\n",
       "      <td>NaN</td>\n",
       "      <td>NaN</td>\n",
       "      <td>NaN</td>\n",
       "      <td>NaN</td>\n",
       "      <td>NaN</td>\n",
       "      <td>NaN</td>\n",
       "    </tr>\n",
       "    <tr>\n",
       "      <th>90bxVjZ3</th>\n",
       "      <th>2014-09-23 16:26</th>\n",
       "      <td>0.0</td>\n",
       "      <td>NaN</td>\n",
       "      <td>NaN</td>\n",
       "      <td>0.0</td>\n",
       "      <td>5</td>\n",
       "      <td>14</td>\n",
       "      <td>NaN</td>\n",
       "      <td>NaN</td>\n",
       "      <td>3</td>\n",
       "      <td>447</td>\n",
       "      <td>...</td>\n",
       "      <td>NaN</td>\n",
       "      <td>NaN</td>\n",
       "      <td>NaN</td>\n",
       "      <td>NaN</td>\n",
       "      <td>NaN</td>\n",
       "      <td>NaN</td>\n",
       "      <td>NaN</td>\n",
       "      <td>NaN</td>\n",
       "      <td>82.5</td>\n",
       "      <td>2.8</td>\n",
       "    </tr>\n",
       "  </tbody>\n",
       "</table>\n",
       "<p>2 rows × 163 columns</p>\n",
       "</div>"
      ],
      "text/plain": [
       "                            Age  height  weight  days_of_stay Accute_DIC  \\\n",
       "pID      Ent_datetime                                                      \n",
       "nOWzDMmn 2011-04-22 13:35  79.0   145.0    38.3           0.0         No   \n",
       "90bxVjZ3 2014-09-23 16:26   0.0     NaN     NaN           0.0          5   \n",
       "\n",
       "                          SOFA_score apache2_score apache2_est_mortality  \\\n",
       "pID      Ent_datetime                                                      \n",
       "nOWzDMmn 2011-04-22 13:35         No            No                    No   \n",
       "90bxVjZ3 2014-09-23 16:26         14           NaN                   NaN   \n",
       "\n",
       "                          SIRS_score  GOT  ... SVV(Vigileo) rSO2-1(INVOS)  \\\n",
       "pID      Ent_datetime                      ...                              \n",
       "nOWzDMmn 2011-04-22 13:35         No   19  ...          NaN           NaN   \n",
       "90bxVjZ3 2014-09-23 16:26          3  447  ...          NaN           NaN   \n",
       "\n",
       "                          rSO2-2(INVOS) rSO2-3(INVOS) rSO2-4(INVOS) TBlood  \\\n",
       "pID      Ent_datetime                                                        \n",
       "nOWzDMmn 2011-04-22 13:35           NaN           NaN           NaN    NaN   \n",
       "90bxVjZ3 2014-09-23 16:26           NaN           NaN           NaN    NaN   \n",
       "\n",
       "                          SVV ScvO2 APTT1 APTT2  \n",
       "pID      Ent_datetime                            \n",
       "nOWzDMmn 2011-04-22 13:35 NaN   NaN   NaN   NaN  \n",
       "90bxVjZ3 2014-09-23 16:26 NaN   NaN  82.5   2.8  \n",
       "\n",
       "[2 rows x 163 columns]"
      ]
     },
     "execution_count": 109,
     "metadata": {},
     "output_type": "execute_result"
    }
   ],
   "source": [
    "df_numeric[df_numeric.index.duplicated()]"
   ]
  },
  {
   "cell_type": "code",
   "execution_count": 110,
   "metadata": {},
   "outputs": [
    {
     "name": "stdout",
     "output_type": "stream",
     "text": [
      "15746\n",
      "16171\n"
     ]
    }
   ],
   "source": [
    "print(len(df_numeric.drop_duplicates()))\n",
    "print(len(df_numeric))"
   ]
  },
  {
   "cell_type": "code",
   "execution_count": 111,
   "metadata": {},
   "outputs": [
    {
     "data": {
      "text/html": [
       "<div>\n",
       "<style scoped>\n",
       "    .dataframe tbody tr th:only-of-type {\n",
       "        vertical-align: middle;\n",
       "    }\n",
       "\n",
       "    .dataframe tbody tr th {\n",
       "        vertical-align: top;\n",
       "    }\n",
       "\n",
       "    .dataframe thead th {\n",
       "        text-align: right;\n",
       "    }\n",
       "</style>\n",
       "<table border=\"1\" class=\"dataframe\">\n",
       "  <thead>\n",
       "    <tr style=\"text-align: right;\">\n",
       "      <th></th>\n",
       "      <th></th>\n",
       "      <th>Sex_F</th>\n",
       "      <th>Sex_M</th>\n",
       "      <th>Sex_nan</th>\n",
       "      <th>Blood_ABO_A</th>\n",
       "      <th>Blood_ABO_AB</th>\n",
       "      <th>Blood_ABO_B</th>\n",
       "      <th>Blood_ABO_O</th>\n",
       "      <th>Blood_ABO_other</th>\n",
       "      <th>Blood_ABO_t</th>\n",
       "      <th>Blood_ABO_nan</th>\n",
       "      <th>...</th>\n",
       "      <th>outcome2_Transfer doctor</th>\n",
       "      <th>outcome2_nan</th>\n",
       "      <th>Severity_of_sepsis_Cancel</th>\n",
       "      <th>Severity_of_sepsis_Dead</th>\n",
       "      <th>Severity_of_sepsis_Deterioration</th>\n",
       "      <th>Severity_of_sepsis_Did not change</th>\n",
       "      <th>Severity_of_sepsis_Healing</th>\n",
       "      <th>Severity_of_sepsis_Improved</th>\n",
       "      <th>Severity_of_sepsis_Transfer doctor</th>\n",
       "      <th>Severity_of_sepsis_nan</th>\n",
       "    </tr>\n",
       "    <tr>\n",
       "      <th>pID</th>\n",
       "      <th>Ent_datetime</th>\n",
       "      <th></th>\n",
       "      <th></th>\n",
       "      <th></th>\n",
       "      <th></th>\n",
       "      <th></th>\n",
       "      <th></th>\n",
       "      <th></th>\n",
       "      <th></th>\n",
       "      <th></th>\n",
       "      <th></th>\n",
       "      <th></th>\n",
       "      <th></th>\n",
       "      <th></th>\n",
       "      <th></th>\n",
       "      <th></th>\n",
       "      <th></th>\n",
       "      <th></th>\n",
       "      <th></th>\n",
       "      <th></th>\n",
       "      <th></th>\n",
       "      <th></th>\n",
       "    </tr>\n",
       "  </thead>\n",
       "  <tbody>\n",
       "    <tr>\n",
       "      <th>9AYeq8l9</th>\n",
       "      <th>2010-11-03 11:52</th>\n",
       "      <td>0</td>\n",
       "      <td>1</td>\n",
       "      <td>0</td>\n",
       "      <td>0</td>\n",
       "      <td>0</td>\n",
       "      <td>0</td>\n",
       "      <td>1</td>\n",
       "      <td>0</td>\n",
       "      <td>0</td>\n",
       "      <td>0</td>\n",
       "      <td>...</td>\n",
       "      <td>0</td>\n",
       "      <td>1</td>\n",
       "      <td>0</td>\n",
       "      <td>0</td>\n",
       "      <td>0</td>\n",
       "      <td>0</td>\n",
       "      <td>0</td>\n",
       "      <td>0</td>\n",
       "      <td>0</td>\n",
       "      <td>1</td>\n",
       "    </tr>\n",
       "    <tr>\n",
       "      <th>2vKAer03</th>\n",
       "      <th>2010-11-03 13:14</th>\n",
       "      <td>0</td>\n",
       "      <td>1</td>\n",
       "      <td>0</td>\n",
       "      <td>1</td>\n",
       "      <td>0</td>\n",
       "      <td>0</td>\n",
       "      <td>0</td>\n",
       "      <td>0</td>\n",
       "      <td>0</td>\n",
       "      <td>0</td>\n",
       "      <td>...</td>\n",
       "      <td>0</td>\n",
       "      <td>1</td>\n",
       "      <td>0</td>\n",
       "      <td>0</td>\n",
       "      <td>0</td>\n",
       "      <td>0</td>\n",
       "      <td>0</td>\n",
       "      <td>0</td>\n",
       "      <td>0</td>\n",
       "      <td>1</td>\n",
       "    </tr>\n",
       "    <tr>\n",
       "      <th>9RrpqrB9</th>\n",
       "      <th>2010-11-03 14:19</th>\n",
       "      <td>0</td>\n",
       "      <td>1</td>\n",
       "      <td>0</td>\n",
       "      <td>0</td>\n",
       "      <td>0</td>\n",
       "      <td>0</td>\n",
       "      <td>1</td>\n",
       "      <td>0</td>\n",
       "      <td>0</td>\n",
       "      <td>0</td>\n",
       "      <td>...</td>\n",
       "      <td>0</td>\n",
       "      <td>0</td>\n",
       "      <td>0</td>\n",
       "      <td>1</td>\n",
       "      <td>0</td>\n",
       "      <td>0</td>\n",
       "      <td>0</td>\n",
       "      <td>0</td>\n",
       "      <td>0</td>\n",
       "      <td>0</td>\n",
       "    </tr>\n",
       "    <tr>\n",
       "      <th>ng4x4Kj9</th>\n",
       "      <th>2010-11-03 13:22</th>\n",
       "      <td>0</td>\n",
       "      <td>1</td>\n",
       "      <td>0</td>\n",
       "      <td>0</td>\n",
       "      <td>0</td>\n",
       "      <td>0</td>\n",
       "      <td>1</td>\n",
       "      <td>0</td>\n",
       "      <td>0</td>\n",
       "      <td>0</td>\n",
       "      <td>...</td>\n",
       "      <td>0</td>\n",
       "      <td>1</td>\n",
       "      <td>0</td>\n",
       "      <td>0</td>\n",
       "      <td>0</td>\n",
       "      <td>0</td>\n",
       "      <td>0</td>\n",
       "      <td>0</td>\n",
       "      <td>0</td>\n",
       "      <td>1</td>\n",
       "    </tr>\n",
       "    <tr>\n",
       "      <th>nq185Pxn</th>\n",
       "      <th>2010-11-03 13:37</th>\n",
       "      <td>1</td>\n",
       "      <td>0</td>\n",
       "      <td>0</td>\n",
       "      <td>1</td>\n",
       "      <td>0</td>\n",
       "      <td>0</td>\n",
       "      <td>0</td>\n",
       "      <td>0</td>\n",
       "      <td>0</td>\n",
       "      <td>0</td>\n",
       "      <td>...</td>\n",
       "      <td>0</td>\n",
       "      <td>1</td>\n",
       "      <td>0</td>\n",
       "      <td>0</td>\n",
       "      <td>0</td>\n",
       "      <td>0</td>\n",
       "      <td>0</td>\n",
       "      <td>0</td>\n",
       "      <td>0</td>\n",
       "      <td>1</td>\n",
       "    </tr>\n",
       "    <tr>\n",
       "      <th>...</th>\n",
       "      <th>...</th>\n",
       "      <td>...</td>\n",
       "      <td>...</td>\n",
       "      <td>...</td>\n",
       "      <td>...</td>\n",
       "      <td>...</td>\n",
       "      <td>...</td>\n",
       "      <td>...</td>\n",
       "      <td>...</td>\n",
       "      <td>...</td>\n",
       "      <td>...</td>\n",
       "      <td>...</td>\n",
       "      <td>...</td>\n",
       "      <td>...</td>\n",
       "      <td>...</td>\n",
       "      <td>...</td>\n",
       "      <td>...</td>\n",
       "      <td>...</td>\n",
       "      <td>...</td>\n",
       "      <td>...</td>\n",
       "      <td>...</td>\n",
       "      <td>...</td>\n",
       "    </tr>\n",
       "    <tr>\n",
       "      <th>A3QNXVDn</th>\n",
       "      <th>2019-03-30 17:33</th>\n",
       "      <td>0</td>\n",
       "      <td>1</td>\n",
       "      <td>0</td>\n",
       "      <td>0</td>\n",
       "      <td>0</td>\n",
       "      <td>0</td>\n",
       "      <td>1</td>\n",
       "      <td>0</td>\n",
       "      <td>0</td>\n",
       "      <td>0</td>\n",
       "      <td>...</td>\n",
       "      <td>0</td>\n",
       "      <td>1</td>\n",
       "      <td>0</td>\n",
       "      <td>0</td>\n",
       "      <td>0</td>\n",
       "      <td>0</td>\n",
       "      <td>0</td>\n",
       "      <td>0</td>\n",
       "      <td>0</td>\n",
       "      <td>1</td>\n",
       "    </tr>\n",
       "    <tr>\n",
       "      <th>37vywE02</th>\n",
       "      <th>2019-03-30 21:30</th>\n",
       "      <td>1</td>\n",
       "      <td>0</td>\n",
       "      <td>0</td>\n",
       "      <td>0</td>\n",
       "      <td>0</td>\n",
       "      <td>0</td>\n",
       "      <td>0</td>\n",
       "      <td>0</td>\n",
       "      <td>0</td>\n",
       "      <td>1</td>\n",
       "      <td>...</td>\n",
       "      <td>0</td>\n",
       "      <td>0</td>\n",
       "      <td>0</td>\n",
       "      <td>0</td>\n",
       "      <td>0</td>\n",
       "      <td>0</td>\n",
       "      <td>0</td>\n",
       "      <td>1</td>\n",
       "      <td>0</td>\n",
       "      <td>0</td>\n",
       "    </tr>\n",
       "    <tr>\n",
       "      <th>9EDo4eEn</th>\n",
       "      <th>2019-03-30 22:02</th>\n",
       "      <td>0</td>\n",
       "      <td>1</td>\n",
       "      <td>0</td>\n",
       "      <td>1</td>\n",
       "      <td>0</td>\n",
       "      <td>0</td>\n",
       "      <td>0</td>\n",
       "      <td>0</td>\n",
       "      <td>0</td>\n",
       "      <td>0</td>\n",
       "      <td>...</td>\n",
       "      <td>0</td>\n",
       "      <td>0</td>\n",
       "      <td>0</td>\n",
       "      <td>0</td>\n",
       "      <td>0</td>\n",
       "      <td>1</td>\n",
       "      <td>0</td>\n",
       "      <td>0</td>\n",
       "      <td>0</td>\n",
       "      <td>0</td>\n",
       "    </tr>\n",
       "    <tr>\n",
       "      <th>2bpBvNan</th>\n",
       "      <th>2019-03-31 07:04</th>\n",
       "      <td>0</td>\n",
       "      <td>1</td>\n",
       "      <td>0</td>\n",
       "      <td>0</td>\n",
       "      <td>0</td>\n",
       "      <td>1</td>\n",
       "      <td>0</td>\n",
       "      <td>0</td>\n",
       "      <td>0</td>\n",
       "      <td>0</td>\n",
       "      <td>...</td>\n",
       "      <td>0</td>\n",
       "      <td>0</td>\n",
       "      <td>0</td>\n",
       "      <td>1</td>\n",
       "      <td>0</td>\n",
       "      <td>0</td>\n",
       "      <td>0</td>\n",
       "      <td>0</td>\n",
       "      <td>0</td>\n",
       "      <td>0</td>\n",
       "    </tr>\n",
       "    <tr>\n",
       "      <th>2D7Klge9</th>\n",
       "      <th>2019-03-31 10:10</th>\n",
       "      <td>0</td>\n",
       "      <td>1</td>\n",
       "      <td>0</td>\n",
       "      <td>1</td>\n",
       "      <td>0</td>\n",
       "      <td>0</td>\n",
       "      <td>0</td>\n",
       "      <td>0</td>\n",
       "      <td>0</td>\n",
       "      <td>0</td>\n",
       "      <td>...</td>\n",
       "      <td>0</td>\n",
       "      <td>0</td>\n",
       "      <td>0</td>\n",
       "      <td>0</td>\n",
       "      <td>0</td>\n",
       "      <td>0</td>\n",
       "      <td>0</td>\n",
       "      <td>1</td>\n",
       "      <td>0</td>\n",
       "      <td>0</td>\n",
       "    </tr>\n",
       "  </tbody>\n",
       "</table>\n",
       "<p>7519 rows × 169 columns</p>\n",
       "</div>"
      ],
      "text/plain": [
       "                           Sex_F  Sex_M  Sex_nan  Blood_ABO_A  Blood_ABO_AB  \\\n",
       "pID      Ent_datetime                                                         \n",
       "9AYeq8l9 2010-11-03 11:52      0      1        0            0             0   \n",
       "2vKAer03 2010-11-03 13:14      0      1        0            1             0   \n",
       "9RrpqrB9 2010-11-03 14:19      0      1        0            0             0   \n",
       "ng4x4Kj9 2010-11-03 13:22      0      1        0            0             0   \n",
       "nq185Pxn 2010-11-03 13:37      1      0        0            1             0   \n",
       "...                          ...    ...      ...          ...           ...   \n",
       "A3QNXVDn 2019-03-30 17:33      0      1        0            0             0   \n",
       "37vywE02 2019-03-30 21:30      1      0        0            0             0   \n",
       "9EDo4eEn 2019-03-30 22:02      0      1        0            1             0   \n",
       "2bpBvNan 2019-03-31 07:04      0      1        0            0             0   \n",
       "2D7Klge9 2019-03-31 10:10      0      1        0            1             0   \n",
       "\n",
       "                           Blood_ABO_B  Blood_ABO_O  Blood_ABO_other  \\\n",
       "pID      Ent_datetime                                                  \n",
       "9AYeq8l9 2010-11-03 11:52            0            1                0   \n",
       "2vKAer03 2010-11-03 13:14            0            0                0   \n",
       "9RrpqrB9 2010-11-03 14:19            0            1                0   \n",
       "ng4x4Kj9 2010-11-03 13:22            0            1                0   \n",
       "nq185Pxn 2010-11-03 13:37            0            0                0   \n",
       "...                                ...          ...              ...   \n",
       "A3QNXVDn 2019-03-30 17:33            0            1                0   \n",
       "37vywE02 2019-03-30 21:30            0            0                0   \n",
       "9EDo4eEn 2019-03-30 22:02            0            0                0   \n",
       "2bpBvNan 2019-03-31 07:04            1            0                0   \n",
       "2D7Klge9 2019-03-31 10:10            0            0                0   \n",
       "\n",
       "                           Blood_ABO_t  Blood_ABO_nan  ...  \\\n",
       "pID      Ent_datetime                                  ...   \n",
       "9AYeq8l9 2010-11-03 11:52            0              0  ...   \n",
       "2vKAer03 2010-11-03 13:14            0              0  ...   \n",
       "9RrpqrB9 2010-11-03 14:19            0              0  ...   \n",
       "ng4x4Kj9 2010-11-03 13:22            0              0  ...   \n",
       "nq185Pxn 2010-11-03 13:37            0              0  ...   \n",
       "...                                ...            ...  ...   \n",
       "A3QNXVDn 2019-03-30 17:33            0              0  ...   \n",
       "37vywE02 2019-03-30 21:30            0              1  ...   \n",
       "9EDo4eEn 2019-03-30 22:02            0              0  ...   \n",
       "2bpBvNan 2019-03-31 07:04            0              0  ...   \n",
       "2D7Klge9 2019-03-31 10:10            0              0  ...   \n",
       "\n",
       "                           outcome2_Transfer doctor  outcome2_nan  \\\n",
       "pID      Ent_datetime                                               \n",
       "9AYeq8l9 2010-11-03 11:52                         0             1   \n",
       "2vKAer03 2010-11-03 13:14                         0             1   \n",
       "9RrpqrB9 2010-11-03 14:19                         0             0   \n",
       "ng4x4Kj9 2010-11-03 13:22                         0             1   \n",
       "nq185Pxn 2010-11-03 13:37                         0             1   \n",
       "...                                             ...           ...   \n",
       "A3QNXVDn 2019-03-30 17:33                         0             1   \n",
       "37vywE02 2019-03-30 21:30                         0             0   \n",
       "9EDo4eEn 2019-03-30 22:02                         0             0   \n",
       "2bpBvNan 2019-03-31 07:04                         0             0   \n",
       "2D7Klge9 2019-03-31 10:10                         0             0   \n",
       "\n",
       "                           Severity_of_sepsis_Cancel  Severity_of_sepsis_Dead  \\\n",
       "pID      Ent_datetime                                                           \n",
       "9AYeq8l9 2010-11-03 11:52                          0                        0   \n",
       "2vKAer03 2010-11-03 13:14                          0                        0   \n",
       "9RrpqrB9 2010-11-03 14:19                          0                        1   \n",
       "ng4x4Kj9 2010-11-03 13:22                          0                        0   \n",
       "nq185Pxn 2010-11-03 13:37                          0                        0   \n",
       "...                                              ...                      ...   \n",
       "A3QNXVDn 2019-03-30 17:33                          0                        0   \n",
       "37vywE02 2019-03-30 21:30                          0                        0   \n",
       "9EDo4eEn 2019-03-30 22:02                          0                        0   \n",
       "2bpBvNan 2019-03-31 07:04                          0                        1   \n",
       "2D7Klge9 2019-03-31 10:10                          0                        0   \n",
       "\n",
       "                           Severity_of_sepsis_Deterioration  \\\n",
       "pID      Ent_datetime                                         \n",
       "9AYeq8l9 2010-11-03 11:52                                 0   \n",
       "2vKAer03 2010-11-03 13:14                                 0   \n",
       "9RrpqrB9 2010-11-03 14:19                                 0   \n",
       "ng4x4Kj9 2010-11-03 13:22                                 0   \n",
       "nq185Pxn 2010-11-03 13:37                                 0   \n",
       "...                                                     ...   \n",
       "A3QNXVDn 2019-03-30 17:33                                 0   \n",
       "37vywE02 2019-03-30 21:30                                 0   \n",
       "9EDo4eEn 2019-03-30 22:02                                 0   \n",
       "2bpBvNan 2019-03-31 07:04                                 0   \n",
       "2D7Klge9 2019-03-31 10:10                                 0   \n",
       "\n",
       "                           Severity_of_sepsis_Did not change  \\\n",
       "pID      Ent_datetime                                          \n",
       "9AYeq8l9 2010-11-03 11:52                                  0   \n",
       "2vKAer03 2010-11-03 13:14                                  0   \n",
       "9RrpqrB9 2010-11-03 14:19                                  0   \n",
       "ng4x4Kj9 2010-11-03 13:22                                  0   \n",
       "nq185Pxn 2010-11-03 13:37                                  0   \n",
       "...                                                      ...   \n",
       "A3QNXVDn 2019-03-30 17:33                                  0   \n",
       "37vywE02 2019-03-30 21:30                                  0   \n",
       "9EDo4eEn 2019-03-30 22:02                                  1   \n",
       "2bpBvNan 2019-03-31 07:04                                  0   \n",
       "2D7Klge9 2019-03-31 10:10                                  0   \n",
       "\n",
       "                           Severity_of_sepsis_Healing  \\\n",
       "pID      Ent_datetime                                   \n",
       "9AYeq8l9 2010-11-03 11:52                           0   \n",
       "2vKAer03 2010-11-03 13:14                           0   \n",
       "9RrpqrB9 2010-11-03 14:19                           0   \n",
       "ng4x4Kj9 2010-11-03 13:22                           0   \n",
       "nq185Pxn 2010-11-03 13:37                           0   \n",
       "...                                               ...   \n",
       "A3QNXVDn 2019-03-30 17:33                           0   \n",
       "37vywE02 2019-03-30 21:30                           0   \n",
       "9EDo4eEn 2019-03-30 22:02                           0   \n",
       "2bpBvNan 2019-03-31 07:04                           0   \n",
       "2D7Klge9 2019-03-31 10:10                           0   \n",
       "\n",
       "                           Severity_of_sepsis_Improved  \\\n",
       "pID      Ent_datetime                                    \n",
       "9AYeq8l9 2010-11-03 11:52                            0   \n",
       "2vKAer03 2010-11-03 13:14                            0   \n",
       "9RrpqrB9 2010-11-03 14:19                            0   \n",
       "ng4x4Kj9 2010-11-03 13:22                            0   \n",
       "nq185Pxn 2010-11-03 13:37                            0   \n",
       "...                                                ...   \n",
       "A3QNXVDn 2019-03-30 17:33                            0   \n",
       "37vywE02 2019-03-30 21:30                            1   \n",
       "9EDo4eEn 2019-03-30 22:02                            0   \n",
       "2bpBvNan 2019-03-31 07:04                            0   \n",
       "2D7Klge9 2019-03-31 10:10                            1   \n",
       "\n",
       "                           Severity_of_sepsis_Transfer doctor  \\\n",
       "pID      Ent_datetime                                           \n",
       "9AYeq8l9 2010-11-03 11:52                                   0   \n",
       "2vKAer03 2010-11-03 13:14                                   0   \n",
       "9RrpqrB9 2010-11-03 14:19                                   0   \n",
       "ng4x4Kj9 2010-11-03 13:22                                   0   \n",
       "nq185Pxn 2010-11-03 13:37                                   0   \n",
       "...                                                       ...   \n",
       "A3QNXVDn 2019-03-30 17:33                                   0   \n",
       "37vywE02 2019-03-30 21:30                                   0   \n",
       "9EDo4eEn 2019-03-30 22:02                                   0   \n",
       "2bpBvNan 2019-03-31 07:04                                   0   \n",
       "2D7Klge9 2019-03-31 10:10                                   0   \n",
       "\n",
       "                           Severity_of_sepsis_nan  \n",
       "pID      Ent_datetime                              \n",
       "9AYeq8l9 2010-11-03 11:52                       1  \n",
       "2vKAer03 2010-11-03 13:14                       1  \n",
       "9RrpqrB9 2010-11-03 14:19                       0  \n",
       "ng4x4Kj9 2010-11-03 13:22                       1  \n",
       "nq185Pxn 2010-11-03 13:37                       1  \n",
       "...                                           ...  \n",
       "A3QNXVDn 2019-03-30 17:33                       1  \n",
       "37vywE02 2019-03-30 21:30                       0  \n",
       "9EDo4eEn 2019-03-30 22:02                       0  \n",
       "2bpBvNan 2019-03-31 07:04                       0  \n",
       "2D7Klge9 2019-03-31 10:10                       0  \n",
       "\n",
       "[7519 rows x 169 columns]"
      ]
     },
     "execution_count": 111,
     "metadata": {},
     "output_type": "execute_result"
    }
   ],
   "source": [
    "df_category.drop_duplicates()"
   ]
  },
  {
   "cell_type": "code",
   "execution_count": null,
   "metadata": {},
   "outputs": [],
   "source": []
  }
 ],
 "metadata": {
  "kernelspec": {
   "display_name": "Python 3",
   "language": "python",
   "name": "python3"
  },
  "language_info": {
   "codemirror_mode": {
    "name": "ipython",
    "version": 3
   },
   "file_extension": ".py",
   "mimetype": "text/x-python",
   "name": "python",
   "nbconvert_exporter": "python",
   "pygments_lexer": "ipython3",
   "version": "3.7.6"
  }
 },
 "nbformat": 4,
 "nbformat_minor": 2
}
