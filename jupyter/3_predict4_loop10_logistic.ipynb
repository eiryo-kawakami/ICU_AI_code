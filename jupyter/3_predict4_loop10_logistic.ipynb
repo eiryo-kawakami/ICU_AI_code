{
 "cells": [
  {
   "cell_type": "markdown",
   "metadata": {},
   "source": [
    "# import"
   ]
  },
  {
   "cell_type": "code",
   "execution_count": 1,
   "metadata": {},
   "outputs": [],
   "source": [
    "import pandas as pd\n",
    "import numpy as np\n",
    "import matplotlib as mpl\n",
    "import matplotlib.pyplot as plt\n",
    "import gc\n",
    "import math\n",
    "from reduce_mem_usage import reduce_mem_usage\n",
    "import glob\n",
    "\n",
    "# Japanese font setting\n",
    "mpl.rcParams['font.family'] = 'sans-serif'\n",
    "mpl.rcParams['font.sans-serif'] = ['Hiragino Maru Gothic Pro', 'Yu Gothic', 'Meirio', 'Takao', 'IPAexGothic', 'IPAPGothic', 'Noto Sans CJK JP']\n",
    "\n",
    "from sklearn.linear_model import LogisticRegression\n",
    "import pickle\n",
    "\n",
    "# enlarge plot\n",
    "# plt.rcParams['figure.figsize'] = (20, 7)\n",
    "\n",
    "# HOUR = 1\n",
    "HOUR = 24\n",
    "\n",
    "CLASSIFIER = 'logistic'\n",
    "\n",
    "TARGET = 'outcome1'\n",
    "# TARGET = 'dos_within_1d'\n",
    "# TARGET = 'dos_within_2d'\n",
    "# TARGET = 'dos_within_3d'\n",
    "# TARGET = 'dos_within_1w'\n",
    "# TARGET = 'dos_more_2w'\n",
    "\n",
    "FEATURE = 'SOFA_score'\n",
    "# FEATURE = 'apache2_score'\n",
    "# FEATURE = 'apache2_est_mortality'\n"
   ]
  },
  {
   "cell_type": "markdown",
   "metadata": {},
   "source": [
    "# read data"
   ]
  },
  {
   "cell_type": "code",
   "execution_count": 2,
   "metadata": {},
   "outputs": [],
   "source": [
    "index_col = ['pID','Ent_datetime']\n",
    "\n",
    "X_train = []\n",
    "y_train = []\n",
    "X_test = []\n",
    "y_test = []\n",
    "\n",
    "for i in range(10):\n",
    "    # train\n",
    "    if TARGET == 'outcome1':\n",
    "        file_train = '../../../data/patient/imputation4/outcome1_train_{}h_{}.txt'.format(HOUR, i)\n",
    "        file_test = '../../../data/patient/imputation4/outcome1_test_{}h_{}.txt'.format(HOUR, i)\n",
    "    else:\n",
    "        file_train = '../../../data/patient/imputation4/days_of_stay_train_{}h_{}.txt'.format(HOUR, i)\n",
    "        file_test = '../../../data/patient/imputation4/days_of_stay_test_{}h_{}.txt'.format(HOUR, i)\n",
    "\n",
    "    df_train = pd.read_table(file_train, low_memory=False, index_col=index_col)\n",
    "    df_test = pd.read_table(file_test, low_memory=False, index_col=index_col)\n",
    "\n",
    "    df_train = df_train[[TARGET, FEATURE]]\n",
    "    df_test = df_test[[TARGET, FEATURE]]\n",
    "\n",
    "    # if TARGET != 'outcome1':\n",
    "    #     del_cols = ['days_of_stay', 'dos_within_1d', 'dos_within_2d', 'dos_within_3d', 'dos_within_1w', 'dos_more_2w']\n",
    "    #     del_cols.remove(TARGET)\n",
    "    #     df_train.drop(del_cols,axis=1,inplace=True)\n",
    "    #     df_test.drop(del_cols,axis=1,inplace=True)\n",
    "\n",
    "    X_train.append(df_train.drop(TARGET,axis=1))\n",
    "    y_train.append(df_train[TARGET].astype(int))\n",
    "    X_test.append(df_test.drop(TARGET,axis=1))\n",
    "    y_test.append(df_test[TARGET].astype(int))"
   ]
  },
  {
   "cell_type": "markdown",
   "metadata": {},
   "source": [
    "# train"
   ]
  },
  {
   "cell_type": "code",
   "execution_count": 3,
   "metadata": {
    "scrolled": true
   },
   "outputs": [],
   "source": [
    "def train(i):\n",
    "\n",
    "    params = {\n",
    "        'C': 1,\n",
    "        'class_weight': 'balanced',\n",
    "        'dual': False,\n",
    "        'fit_intercept': True,\n",
    "        'intercept_scaling': 1,\n",
    "        'l1_ratio': None,\n",
    "        'max_iter': 100,\n",
    "        'multi_class': 'ovr',\n",
    "        'n_jobs': None,\n",
    "        'penalty': 'l1',\n",
    "        'random_state': i,\n",
    "        'solver': 'liblinear',\n",
    "        'tol': 0.001,\n",
    "        'verbose': 0,\n",
    "        'warm_start': True\n",
    "    }\n",
    "    \n",
    "    model = LogisticRegression(**params)\n",
    "    \n",
    "    model.fit(X_train[i], np.array(y_train[i]))\n",
    "    \n",
    "    return model\n",
    "    \n",
    "\n",
    "model = []\n",
    "for i in range(10):\n",
    "    model.append(train(i))"
   ]
  },
  {
   "cell_type": "markdown",
   "metadata": {},
   "source": [
    "# grid search"
   ]
  },
  {
   "cell_type": "code",
   "execution_count": 4,
   "metadata": {},
   "outputs": [],
   "source": [
    "from sklearn.model_selection import GridSearchCV\n",
    "\n",
    "if False:\n",
    "    # scoring = 'accuracy'\n",
    "    scoring = 'roc_auc'\n",
    "\n",
    "    params = {\n",
    "        'penalty': ['l1','l2'],\n",
    "        'dual': [True, False],\n",
    "        'tol': [0.0001],\n",
    "        'C': [1],\n",
    "        'fit_intercept': [True, False],\n",
    "        'intercept_scaling': [1],\n",
    "        'class_weight': [1, 'balanced'],\n",
    "        'random_state': [0],\n",
    "        'solver': ['newton-cg','lbfgs','liblinear','sag','saga'],\n",
    "        'max_iter': [100],\n",
    "        'multi_class': ['ovr','multinomial','auto'],\n",
    "        'verbose': [0],\n",
    "        'warm_start': [True, False],\n",
    "        'n_jobs': [None],\n",
    "        'l1_ratio': [None]\n",
    "    }\n",
    "\n",
    "#     LR_grid = {LogisticRegression(): params}\n",
    "    \n",
    "    \n",
    "    gs = GridSearchCV(LogisticRegression(), params, scoring=scoring, verbose=2)\n",
    "    gs.fit(X_train, y_train)\n",
    "\n",
    "    gs_result = pd.DataFrame.from_dict(gs.cv_results_)\n",
    "    model = gs.best_estimator_\n",
    "\n",
    "#     gs_result.to_csv('../../../data/patient/union_outcome1/result/grid_search_result_outcome1_{}_group{}.txt'.format(CLASSIFIER, GROUP_NO), sep='\\t', index=False)\n",
    "#     pickle.dump(model, open('../../../data/patient/union_outcome1/result/model_outcome1_{}_group{}.pickle'.format(CLASSIFIER, GROUP_NO), 'wb'))\n",
    "\n",
    "#     pred = model.predict(X_test)\n",
    "\n",
    "    gs_result"
   ]
  },
  {
   "cell_type": "markdown",
   "metadata": {},
   "source": [
    "# ROC"
   ]
  },
  {
   "cell_type": "code",
   "execution_count": 6,
   "metadata": {},
   "outputs": [
    {
     "name": "stdout",
     "output_type": "stream",
     "text": [
      "AUC= 0.7766091073474403\n",
      "AUC= 0.7427774787085731\n",
      "AUC= 0.7744236016214152\n",
      "AUC= 0.7644484933813684\n",
      "AUC= 0.747396947653687\n",
      "AUC= 0.7561389705577871\n",
      "AUC= 0.7672413396459941\n",
      "AUC= 0.7689851431621277\n",
      "AUC= 0.7572064175650246\n",
      "AUC= 0.7690173506149323\n",
      "AUC 95% CI= [0.74381686 0.77611737]\n"
     ]
    },
    {
     "data": {
      "image/png": "[encoded data removed]",
      "text/plain": [
       "<Figure size 432x288 with 1 Axes>"
      ]
     },
     "metadata": {
      "needs_background": "light"
     },
     "output_type": "display_data"
    }
   ],
   "source": [
    "from sklearn import metrics\n",
    "from sklearn.metrics import roc_curve\n",
    "\n",
    "ROC_BASE = '../../../data/patient/imputation4/result/roc/{}_{}_{}h'\\\n",
    "    .format(TARGET, CLASSIFIER, HOUR)\n",
    "\n",
    "def roc(i):\n",
    "    pp = model[i].predict_proba(X_test[i])[:,1]\n",
    "    fpr, tpr, threshold = roc_curve(y_test[i].values, pp)\n",
    "\n",
    "    # save roc data\n",
    "    df_roc = pd.DataFrame(y_test[i])\n",
    "    df_roc.columns = ['test']\n",
    "    df_roc['predict'] = pp\n",
    "    df_roc.to_csv('{}/roc_{}_{}_{}h_{}.txt'\n",
    "        .format(ROC_BASE,TARGET, CLASSIFIER, HOUR, i), sep='\\t', index=False)\n",
    "\n",
    "    # AUC\n",
    "    auc = metrics.auc(fpr, tpr)\n",
    "    print('AUC=', auc)\n",
    "\n",
    "    # ROC curve\n",
    "    plt.plot(fpr, tpr)\n",
    "    plt.title('ROC curve')\n",
    "    plt.xlabel('False Positive Rate')\n",
    "    plt.ylabel('True Positive Rate')\n",
    "    \n",
    "    return auc\n",
    "\n",
    "auc_list = []\n",
    "for i in range(10):\n",
    "    auc_list.append(roc(i))\n",
    "\n",
    "print('AUC 95% CI= {}'.format(np.percentile(auc_list, (2.5, 97.5))))"
   ]
  },
  {
   "cell_type": "code",
   "execution_count": 7,
   "metadata": {},
   "outputs": [
    {
     "name": "stdout",
     "output_type": "stream",
     "text": [
      "roc_dos_more_2w_logistic_24h_0.txt\n",
      "roc_dos_more_2w_logistic_24h_1.txt\n",
      "roc_dos_more_2w_logistic_24h_2.txt\n",
      "roc_dos_more_2w_logistic_24h_3.txt\n",
      "roc_dos_more_2w_logistic_24h_4.txt\n",
      "roc_dos_more_2w_logistic_24h_5.txt\n",
      "roc_dos_more_2w_logistic_24h_6.txt\n",
      "roc_dos_more_2w_logistic_24h_7.txt\n",
      "roc_dos_more_2w_logistic_24h_8.txt\n",
      "roc_dos_more_2w_logistic_24h_9.txt\n"
     ]
    }
   ],
   "source": [
    "# get mean\n",
    "files = glob.glob('{}/*'.format(ROC_BASE))\n",
    "files.sort()\n",
    "\n",
    "df_total = pd.DataFrame()\n",
    "for f in files:\n",
    "    if f.endswith('_mean.txt'):\n",
    "        continue\n",
    "    print(f.split('/')[-1])\n",
    "    df_ = pd.read_csv(f, sep='\\t')\n",
    "    df_total = pd.concat([df_total, df_], axis=0)\n",
    "\n",
    "df_mean = df_total.reset_index().groupby('index', as_index=False).mean().drop('index',axis=1)\n",
    "df_mean.to_csv('{}/roc_{}_{}_{}h_mean.txt'\\\n",
    "    .format(ROC_BASE,TARGET, CLASSIFIER, HOUR), sep='\\t', index=False)\n"
   ]
  },
  {
   "cell_type": "markdown",
   "metadata": {},
   "source": [
    "# get_params"
   ]
  },
  {
   "cell_type": "code",
   "execution_count": 14,
   "metadata": {},
   "outputs": [
    {
     "data": {
      "text/plain": [
       "{'C': 1,\n",
       " 'class_weight': 'balanced',\n",
       " 'dual': False,\n",
       " 'fit_intercept': True,\n",
       " 'intercept_scaling': 1,\n",
       " 'l1_ratio': None,\n",
       " 'max_iter': 100,\n",
       " 'multi_class': 'ovr',\n",
       " 'n_jobs': None,\n",
       " 'penalty': 'l1',\n",
       " 'random_state': 1,\n",
       " 'solver': 'liblinear',\n",
       " 'tol': 0.001,\n",
       " 'verbose': 0,\n",
       " 'warm_start': True}"
      ]
     },
     "execution_count": 14,
     "metadata": {},
     "output_type": "execute_result"
    }
   ],
   "source": [
    "model[1].get_params()"
   ]
  },
  {
   "cell_type": "code",
   "execution_count": null,
   "metadata": {},
   "outputs": [],
   "source": []
  }
 ],
 "metadata": {
  "kernelspec": {
   "display_name": "Python 3",
   "language": "python",
   "name": "python3"
  },
  "language_info": {
   "codemirror_mode": {
    "name": "ipython",
    "version": 3
   },
   "file_extension": ".py",
   "mimetype": "text/x-python",
   "name": "python",
   "nbconvert_exporter": "python",
   "pygments_lexer": "ipython3",
   "version": "3.7.6"
  }
 },
 "nbformat": 4,
 "nbformat_minor": 2
}
